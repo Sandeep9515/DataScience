{
 "cells": [
  {
   "cell_type": "markdown",
   "metadata": {},
   "source": [
    "## CART = Classification and Regression Tree methods\n",
    "- Decission tree is a cart algorithm, can perform both regression and classification.\n",
    "- In cart methods, the regression value is achieved by averaging different classes.\n",
    "- This is the building block of the production methods.\n",
    "- splitting is dividing s decision node to two different nodes.\n",
    "- Pruning is opposite of splitting.\n",
    "- Leaf Node = Terminal Node.\n",
    "- Decision tree requires very less data cleaning\n",
    "- Works with both parametric and non parametric data.\n",
    "- Not affected by missing values or outliers.\n",
    "\n",
    "### disadvantages\n",
    "- Overfitting.\n",
    "- Low accuracy for continous variables\n",
    "- Unstable\n",
    "- Small change in the data will restructure the entire tree.\n",
    "\n",
    "### Applications\n",
    "- Business decision support\n",
    "- Fruad statement detection\n",
    "- Healthcare Management\n",
    "- Pharmacology\n",
    "- Agriculture\n",
    "\n"
   ]
  },
  {
   "cell_type": "code",
   "execution_count": 1,
   "metadata": {},
   "outputs": [],
   "source": [
    "# Imports required\n",
    "import pandas as pd\n",
    "import sklearn.datasets as datasets\n",
    "from sklearn.tree import DecisionTreeRegressor\n",
    "from sklearn.externals.six import StringIO  \n",
    "from IPython.display import Image  \n",
    "from sklearn.tree import export_graphviz\n",
    "#import pydotplus\n",
    "from sklearn.preprocessing import scale\n",
    "from sklearn.model_selection import train_test_split\n",
    "from sklearn.metrics import r2_score"
   ]
  },
  {
   "cell_type": "code",
   "execution_count": 23,
   "metadata": {},
   "outputs": [
    {
     "data": {
      "text/plain": [
       "DecisionTreeRegressor(criterion='mse', max_depth=None, max_features=None,\n",
       "           max_leaf_nodes=None, min_impurity_decrease=0.0,\n",
       "           min_impurity_split=None, min_samples_leaf=1,\n",
       "           min_samples_split=2, min_weight_fraction_leaf=0.0,\n",
       "           presort=False, random_state=4, splitter='best')"
      ]
     },
     "execution_count": 23,
     "metadata": {},
     "output_type": "execute_result"
    }
   ],
   "source": [
    "data = pd.read_csv('train.csv')\n",
    "y=data.medv\n",
    "X = data.iloc[:,1:-1]\n",
    "#X=pd.DataFrame(scale(X))\n",
    "X_train, X_test, y_train, y_test = train_test_split(X,y, random_state=10)\n",
    "\n",
    "model = DecisionTreeRegressor(random_state=4, max_features=None)\n",
    "model.fit(X_train,y_train)"
   ]
  },
  {
   "cell_type": "code",
   "execution_count": 24,
   "metadata": {},
   "outputs": [
    {
     "data": {
      "text/plain": [
       "array([22.1,  9.5, 32.4, 19.3, 20.6, 16.1, 30.8, 18.2, 23.1, 17.1, 23.6,\n",
       "       22.6, 24.3, 21.4, 14.3, 19.4, 20.5, 19.7, 14.6, 19.1, 21.4, 17. ,\n",
       "       11.8, 24.1, 21.4, 27.1, 24.6, 50. , 19.1, 24.4, 33.4, 34.9, 19.1,\n",
       "       18.3, 20.6, 29. , 24.4, 13.4, 22.2, 22.7, 22.9, 29. , 17.4, 44.8,\n",
       "       28.4, 15.2, 21.4, 20.4, 21.2, 24.6, 19.5, 13.8, 31. ,  7.2, 28. ,\n",
       "       17.3, 19.6, 34.9, 37.6, 29. , 24.6, 28.5, 24.4, 44.8, 30.5, 19. ,\n",
       "       22. , 20. , 28.5, 48.5, 37.6, 23.2, 15.4, 17.5, 24.4, 21.2, 24. ,\n",
       "       32.2, 22.1, 20.4, 20.8, 24.4, 17.1, 23.2])"
      ]
     },
     "execution_count": 24,
     "metadata": {},
     "output_type": "execute_result"
    }
   ],
   "source": [
    "y_predict=model.predict(X_test)\n",
    "y_predict"
   ]
  },
  {
   "cell_type": "code",
   "execution_count": 25,
   "metadata": {},
   "outputs": [
    {
     "data": {
      "text/plain": [
       "0.817459652605549"
      ]
     },
     "execution_count": 25,
     "metadata": {},
     "output_type": "execute_result"
    }
   ],
   "source": [
    "r2_score(y_test,y_predict)"
   ]
  }
 ],
 "metadata": {
  "kernelspec": {
   "display_name": "Python 3",
   "language": "python",
   "name": "python3"
  },
  "language_info": {
   "codemirror_mode": {
    "name": "ipython",
    "version": 3
   },
   "file_extension": ".py",
   "mimetype": "text/x-python",
   "name": "python",
   "nbconvert_exporter": "python",
   "pygments_lexer": "ipython3",
   "version": "3.6.4"
  }
 },
 "nbformat": 4,
 "nbformat_minor": 2
}
