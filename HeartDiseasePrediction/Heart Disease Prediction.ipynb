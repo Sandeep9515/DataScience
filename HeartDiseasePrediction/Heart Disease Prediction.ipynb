{
 "cells": [
  {
   "cell_type": "code",
   "execution_count": 1,
   "metadata": {},
   "outputs": [],
   "source": [
    "import numpy as np\n",
    "import pandas as pd\n",
    "from sklearn.model_selection import train_test_split\n",
    "from sklearn.metrics import classification_report\n",
    "from sklearn.metrics import confusion_matrix\n",
    "from sklearn.metrics import accuracy_score\n",
    "from sklearn.neighbors import KNeighborsClassifier\n",
    "from sklearn.linear_model import LogisticRegression\n",
    "from sklearn.ensemble import RandomForestClassifier\n",
    "from sklearn.svm import SVC\n",
    "from sklearn.preprocessing import scale\n",
    "from scipy import stats\n",
    "from sklearn.tree import DecisionTreeClassifier"
   ]
  },
  {
   "cell_type": "markdown",
   "metadata": {},
   "source": [
    "# Data Explanation\n",
    "### Predictor:\n",
    "num: diagnosis of heart disease (angiographic disease status) \n",
    "-- Value 0: < 50% diameter narrowing \n",
    "-- Value 1: > 50% diameter narrowing \n",
    "\n",
    "### Only 14 attributes used: \n",
    "\n",
    "age: age in years \n",
    "sex: sex (1 = male; 0 = female) \n",
    "cp: chest pain type \n",
    "-- Value 1: typical angina \n",
    "-- Value 2: atypical angina \n",
    "-- Value 3: non-anginal pain \n",
    "-- Value 4: asymptomatic \n",
    "trestbps: resting blood pressure (in mm Hg on admission to the hospital) \n",
    "chol: serum cholestoral in mg/dl \n",
    "fbs: (fasting blood sugar > 120 mg/dl) (1 = true; 0 = false) \n",
    "restecg: resting electrocardiographic results \n",
    "-- Value 0: normal \n",
    "-- Value 1: having ST-T wave abnormality (T wave inversions and/or ST elevation or depression of > 0.05 mV) \n",
    "-- Value 2: showing probable or definite left ventricular hypertrophy by Estes' criteria \n",
    "thalach: maximum heart rate achieved \n",
    "exang: exercise induced angina (1 = yes; 0 = no) \n",
    "oldpeak = ST depression induced by exercise relative to rest \n",
    "slope: the slope of the peak exercise ST segment \n",
    "-- Value 1: upsloping \n",
    "-- Value 2: flat \n",
    "-- Value 3: downsloping \n",
    "ca: number of major vessels (0-3) colored by flourosopy \n",
    "thal: 3 = normal; 6 = fixed defect; 7 = reversable defect "
   ]
  },
  {
   "cell_type": "code",
   "execution_count": 2,
   "metadata": {},
   "outputs": [
    {
     "data": {
      "text/html": [
       "<div>\n",
       "<style scoped>\n",
       "    .dataframe tbody tr th:only-of-type {\n",
       "        vertical-align: middle;\n",
       "    }\n",
       "\n",
       "    .dataframe tbody tr th {\n",
       "        vertical-align: top;\n",
       "    }\n",
       "\n",
       "    .dataframe thead th {\n",
       "        text-align: right;\n",
       "    }\n",
       "</style>\n",
       "<table border=\"1\" class=\"dataframe\">\n",
       "  <thead>\n",
       "    <tr style=\"text-align: right;\">\n",
       "      <th></th>\n",
       "      <th>age</th>\n",
       "      <th>sex</th>\n",
       "      <th>cp</th>\n",
       "      <th>trestbps</th>\n",
       "      <th>chol</th>\n",
       "      <th>fbs</th>\n",
       "      <th>restecg</th>\n",
       "      <th>thalach</th>\n",
       "      <th>exang</th>\n",
       "      <th>oldpeak</th>\n",
       "      <th>slope</th>\n",
       "      <th>ca</th>\n",
       "      <th>thal</th>\n",
       "      <th>num</th>\n",
       "    </tr>\n",
       "  </thead>\n",
       "  <tbody>\n",
       "    <tr>\n",
       "      <th>0</th>\n",
       "      <td>32.0</td>\n",
       "      <td>1.0</td>\n",
       "      <td>1.0</td>\n",
       "      <td>95</td>\n",
       "      <td>0</td>\n",
       "      <td>?</td>\n",
       "      <td>0</td>\n",
       "      <td>127</td>\n",
       "      <td>0</td>\n",
       "      <td>.7</td>\n",
       "      <td>1</td>\n",
       "      <td>?</td>\n",
       "      <td>?</td>\n",
       "      <td>1</td>\n",
       "    </tr>\n",
       "    <tr>\n",
       "      <th>1</th>\n",
       "      <td>34.0</td>\n",
       "      <td>1.0</td>\n",
       "      <td>4.0</td>\n",
       "      <td>115</td>\n",
       "      <td>0</td>\n",
       "      <td>?</td>\n",
       "      <td>?</td>\n",
       "      <td>154</td>\n",
       "      <td>0</td>\n",
       "      <td>.2</td>\n",
       "      <td>1</td>\n",
       "      <td>?</td>\n",
       "      <td>?</td>\n",
       "      <td>1</td>\n",
       "    </tr>\n",
       "    <tr>\n",
       "      <th>2</th>\n",
       "      <td>35.0</td>\n",
       "      <td>1.0</td>\n",
       "      <td>4.0</td>\n",
       "      <td>?</td>\n",
       "      <td>0</td>\n",
       "      <td>?</td>\n",
       "      <td>0</td>\n",
       "      <td>130</td>\n",
       "      <td>1</td>\n",
       "      <td>?</td>\n",
       "      <td>?</td>\n",
       "      <td>?</td>\n",
       "      <td>7</td>\n",
       "      <td>1</td>\n",
       "    </tr>\n",
       "    <tr>\n",
       "      <th>3</th>\n",
       "      <td>36.0</td>\n",
       "      <td>1.0</td>\n",
       "      <td>4.0</td>\n",
       "      <td>110</td>\n",
       "      <td>0</td>\n",
       "      <td>?</td>\n",
       "      <td>0</td>\n",
       "      <td>125</td>\n",
       "      <td>1</td>\n",
       "      <td>1</td>\n",
       "      <td>2</td>\n",
       "      <td>?</td>\n",
       "      <td>6</td>\n",
       "      <td>1</td>\n",
       "    </tr>\n",
       "    <tr>\n",
       "      <th>4</th>\n",
       "      <td>38.0</td>\n",
       "      <td>0.0</td>\n",
       "      <td>4.0</td>\n",
       "      <td>105</td>\n",
       "      <td>0</td>\n",
       "      <td>?</td>\n",
       "      <td>0</td>\n",
       "      <td>166</td>\n",
       "      <td>0</td>\n",
       "      <td>2.8</td>\n",
       "      <td>1</td>\n",
       "      <td>?</td>\n",
       "      <td>?</td>\n",
       "      <td>1</td>\n",
       "    </tr>\n",
       "    <tr>\n",
       "      <th>5</th>\n",
       "      <td>38.0</td>\n",
       "      <td>0.0</td>\n",
       "      <td>4.0</td>\n",
       "      <td>110</td>\n",
       "      <td>0</td>\n",
       "      <td>0</td>\n",
       "      <td>0</td>\n",
       "      <td>156</td>\n",
       "      <td>0</td>\n",
       "      <td>0</td>\n",
       "      <td>2</td>\n",
       "      <td>?</td>\n",
       "      <td>3</td>\n",
       "      <td>1</td>\n",
       "    </tr>\n",
       "    <tr>\n",
       "      <th>6</th>\n",
       "      <td>38.0</td>\n",
       "      <td>1.0</td>\n",
       "      <td>3.0</td>\n",
       "      <td>100</td>\n",
       "      <td>0</td>\n",
       "      <td>?</td>\n",
       "      <td>0</td>\n",
       "      <td>179</td>\n",
       "      <td>0</td>\n",
       "      <td>-1.1</td>\n",
       "      <td>1</td>\n",
       "      <td>?</td>\n",
       "      <td>?</td>\n",
       "      <td>0</td>\n",
       "    </tr>\n",
       "    <tr>\n",
       "      <th>7</th>\n",
       "      <td>38.0</td>\n",
       "      <td>1.0</td>\n",
       "      <td>3.0</td>\n",
       "      <td>115</td>\n",
       "      <td>0</td>\n",
       "      <td>0</td>\n",
       "      <td>0</td>\n",
       "      <td>128</td>\n",
       "      <td>1</td>\n",
       "      <td>0</td>\n",
       "      <td>2</td>\n",
       "      <td>?</td>\n",
       "      <td>7</td>\n",
       "      <td>1</td>\n",
       "    </tr>\n",
       "    <tr>\n",
       "      <th>8</th>\n",
       "      <td>38.0</td>\n",
       "      <td>1.0</td>\n",
       "      <td>4.0</td>\n",
       "      <td>135</td>\n",
       "      <td>0</td>\n",
       "      <td>?</td>\n",
       "      <td>0</td>\n",
       "      <td>150</td>\n",
       "      <td>0</td>\n",
       "      <td>0</td>\n",
       "      <td>?</td>\n",
       "      <td>?</td>\n",
       "      <td>3</td>\n",
       "      <td>1</td>\n",
       "    </tr>\n",
       "    <tr>\n",
       "      <th>9</th>\n",
       "      <td>38.0</td>\n",
       "      <td>1.0</td>\n",
       "      <td>4.0</td>\n",
       "      <td>150</td>\n",
       "      <td>0</td>\n",
       "      <td>?</td>\n",
       "      <td>0</td>\n",
       "      <td>120</td>\n",
       "      <td>1</td>\n",
       "      <td>?</td>\n",
       "      <td>?</td>\n",
       "      <td>?</td>\n",
       "      <td>3</td>\n",
       "      <td>1</td>\n",
       "    </tr>\n",
       "  </tbody>\n",
       "</table>\n",
       "</div>"
      ],
      "text/plain": [
       "    age  sex   cp trestbps chol fbs restecg thalach exang oldpeak slope ca  \\\n",
       "0  32.0  1.0  1.0       95    0   ?       0     127     0      .7     1  ?   \n",
       "1  34.0  1.0  4.0      115    0   ?       ?     154     0      .2     1  ?   \n",
       "2  35.0  1.0  4.0        ?    0   ?       0     130     1       ?     ?  ?   \n",
       "3  36.0  1.0  4.0      110    0   ?       0     125     1       1     2  ?   \n",
       "4  38.0  0.0  4.0      105    0   ?       0     166     0     2.8     1  ?   \n",
       "5  38.0  0.0  4.0      110    0   0       0     156     0       0     2  ?   \n",
       "6  38.0  1.0  3.0      100    0   ?       0     179     0    -1.1     1  ?   \n",
       "7  38.0  1.0  3.0      115    0   0       0     128     1       0     2  ?   \n",
       "8  38.0  1.0  4.0      135    0   ?       0     150     0       0     ?  ?   \n",
       "9  38.0  1.0  4.0      150    0   ?       0     120     1       ?     ?  ?   \n",
       "\n",
       "  thal  num  \n",
       "0    ?    1  \n",
       "1    ?    1  \n",
       "2    7    1  \n",
       "3    6    1  \n",
       "4    ?    1  \n",
       "5    3    1  \n",
       "6    ?    0  \n",
       "7    7    1  \n",
       "8    3    1  \n",
       "9    3    1  "
      ]
     },
     "execution_count": 2,
     "metadata": {},
     "output_type": "execute_result"
    }
   ],
   "source": [
    "data1 = pd.read_csv(\"https://archive.ics.uci.edu/ml/machine-learning-databases/heart-disease/processed.switzerland.data\",header=None)\n",
    "data2 = pd.read_csv('https://archive.ics.uci.edu/ml/machine-learning-databases/heart-disease/reprocessed.hungarian.data',header=None,delim_whitespace=True)\n",
    "data3 = pd.read_csv('https://archive.ics.uci.edu/ml/machine-learning-databases/heart-disease/processed.cleveland.data',header=None)\n",
    "data4 = pd.read_csv('https://archive.ics.uci.edu/ml/machine-learning-databases/heart-disease/processed.va.data',header=None)\n",
    "data = data1.append(data2).append(data3).append(data4)\n",
    "data.columns=['age','sex','cp','trestbps','chol','fbs','restecg','thalach','exang','oldpeak','slope','ca','thal','num']\n",
    "data['num'] = data['num'].replace([1, 2, 3, 4, 5, 6], 1)\n",
    "data.head(10)"
   ]
  },
  {
   "cell_type": "code",
   "execution_count": 3,
   "metadata": {},
   "outputs": [
    {
     "data": {
      "text/plain": [
       "(920, 14)"
      ]
     },
     "execution_count": 3,
     "metadata": {},
     "output_type": "execute_result"
    }
   ],
   "source": [
    "data.shape"
   ]
  },
  {
   "cell_type": "code",
   "execution_count": 4,
   "metadata": {},
   "outputs": [
    {
     "data": {
      "text/plain": [
       "0"
      ]
     },
     "execution_count": 4,
     "metadata": {},
     "output_type": "execute_result"
    }
   ],
   "source": [
    "data.isnull().sum().sum()"
   ]
  },
  {
   "cell_type": "code",
   "execution_count": 5,
   "metadata": {},
   "outputs": [
    {
     "name": "stdout",
     "output_type": "stream",
     "text": [
      "<class 'pandas.core.frame.DataFrame'>\n",
      "Int64Index: 920 entries, 0 to 199\n",
      "Data columns (total 14 columns):\n",
      "age         920 non-null float64\n",
      "sex         920 non-null float64\n",
      "cp          920 non-null float64\n",
      "trestbps    920 non-null object\n",
      "chol        920 non-null object\n",
      "fbs         920 non-null object\n",
      "restecg     920 non-null object\n",
      "thalach     920 non-null object\n",
      "exang       920 non-null object\n",
      "oldpeak     920 non-null object\n",
      "slope       920 non-null object\n",
      "ca          920 non-null object\n",
      "thal        920 non-null object\n",
      "num         920 non-null int64\n",
      "dtypes: float64(3), int64(1), object(10)\n",
      "memory usage: 107.8+ KB\n"
     ]
    }
   ],
   "source": [
    "data.info()"
   ]
  },
  {
   "cell_type": "code",
   "execution_count": 6,
   "metadata": {},
   "outputs": [
    {
     "data": {
      "text/html": [
       "<div>\n",
       "<style scoped>\n",
       "    .dataframe tbody tr th:only-of-type {\n",
       "        vertical-align: middle;\n",
       "    }\n",
       "\n",
       "    .dataframe tbody tr th {\n",
       "        vertical-align: top;\n",
       "    }\n",
       "\n",
       "    .dataframe thead th {\n",
       "        text-align: right;\n",
       "    }\n",
       "</style>\n",
       "<table border=\"1\" class=\"dataframe\">\n",
       "  <thead>\n",
       "    <tr style=\"text-align: right;\">\n",
       "      <th></th>\n",
       "      <th>age</th>\n",
       "      <th>sex</th>\n",
       "      <th>cp</th>\n",
       "      <th>num</th>\n",
       "    </tr>\n",
       "  </thead>\n",
       "  <tbody>\n",
       "    <tr>\n",
       "      <th>count</th>\n",
       "      <td>920.000000</td>\n",
       "      <td>920.000000</td>\n",
       "      <td>920.000000</td>\n",
       "      <td>920.000000</td>\n",
       "    </tr>\n",
       "    <tr>\n",
       "      <th>mean</th>\n",
       "      <td>53.510870</td>\n",
       "      <td>0.789130</td>\n",
       "      <td>3.250000</td>\n",
       "      <td>0.553261</td>\n",
       "    </tr>\n",
       "    <tr>\n",
       "      <th>std</th>\n",
       "      <td>9.424685</td>\n",
       "      <td>0.408148</td>\n",
       "      <td>0.930969</td>\n",
       "      <td>0.497426</td>\n",
       "    </tr>\n",
       "    <tr>\n",
       "      <th>min</th>\n",
       "      <td>28.000000</td>\n",
       "      <td>0.000000</td>\n",
       "      <td>1.000000</td>\n",
       "      <td>0.000000</td>\n",
       "    </tr>\n",
       "    <tr>\n",
       "      <th>25%</th>\n",
       "      <td>47.000000</td>\n",
       "      <td>1.000000</td>\n",
       "      <td>3.000000</td>\n",
       "      <td>0.000000</td>\n",
       "    </tr>\n",
       "    <tr>\n",
       "      <th>50%</th>\n",
       "      <td>54.000000</td>\n",
       "      <td>1.000000</td>\n",
       "      <td>4.000000</td>\n",
       "      <td>1.000000</td>\n",
       "    </tr>\n",
       "    <tr>\n",
       "      <th>75%</th>\n",
       "      <td>60.000000</td>\n",
       "      <td>1.000000</td>\n",
       "      <td>4.000000</td>\n",
       "      <td>1.000000</td>\n",
       "    </tr>\n",
       "    <tr>\n",
       "      <th>max</th>\n",
       "      <td>77.000000</td>\n",
       "      <td>1.000000</td>\n",
       "      <td>4.000000</td>\n",
       "      <td>1.000000</td>\n",
       "    </tr>\n",
       "  </tbody>\n",
       "</table>\n",
       "</div>"
      ],
      "text/plain": [
       "              age         sex          cp         num\n",
       "count  920.000000  920.000000  920.000000  920.000000\n",
       "mean    53.510870    0.789130    3.250000    0.553261\n",
       "std      9.424685    0.408148    0.930969    0.497426\n",
       "min     28.000000    0.000000    1.000000    0.000000\n",
       "25%     47.000000    1.000000    3.000000    0.000000\n",
       "50%     54.000000    1.000000    4.000000    1.000000\n",
       "75%     60.000000    1.000000    4.000000    1.000000\n",
       "max     77.000000    1.000000    4.000000    1.000000"
      ]
     },
     "execution_count": 6,
     "metadata": {},
     "output_type": "execute_result"
    }
   ],
   "source": [
    "data.describe()"
   ]
  },
  {
   "cell_type": "code",
   "execution_count": 7,
   "metadata": {},
   "outputs": [
    {
     "name": "stdout",
     "output_type": "stream",
     "text": [
      "The sum of all the ? symbols is 58\n",
      "The sum of all the ? symbols is 7\n",
      "The sum of all the ? symbols is 82\n",
      "The sum of all the ? symbols is 1\n",
      "The sum of all the ? symbols is 54\n",
      "The sum of all the ? symbols is 54\n",
      "The sum of all the ? symbols is 62\n",
      "The sum of all the ? symbols is 119\n",
      "The sum of all the ? symbols is 320\n",
      "The sum of all the ? symbols is 220\n"
     ]
    }
   ],
   "source": [
    "print('The sum of all the ? symbols is',data.trestbps.str.contains('\\?').sum())\n",
    "print('The sum of all the ? symbols is',data.chol.str.contains('\\?').sum())\n",
    "print('The sum of all the ? symbols is',data.fbs.str.contains('\\?').sum())\n",
    "print('The sum of all the ? symbols is',data.restecg.str.contains('\\?').sum())\n",
    "print('The sum of all the ? symbols is',data.thalach.str.contains('\\?').sum())\n",
    "print('The sum of all the ? symbols is',data.exang.str.contains('\\?').sum())\n",
    "print('The sum of all the ? symbols is',data.oldpeak.str.contains('\\?').sum())\n",
    "print('The sum of all the ? symbols is',data.slope.str.contains('\\?').sum())\n",
    "print('The sum of all the ? symbols is',data.ca.str.contains('\\?').sum())\n",
    "print('The sum of all the ? symbols is',data.thal.str.contains('\\?').sum())"
   ]
  },
  {
   "cell_type": "code",
   "execution_count": 8,
   "metadata": {},
   "outputs": [
    {
     "data": {
      "text/plain": [
       "977"
      ]
     },
     "execution_count": 8,
     "metadata": {},
     "output_type": "execute_result"
    }
   ],
   "source": [
    "data.trestbps.replace('?',np.nan,inplace=True)\n",
    "data.chol.replace('?',np.nan,inplace=True)\n",
    "data.fbs.replace('?',np.nan,inplace=True)\n",
    "data.restecg.replace('?',np.nan,inplace=True)\n",
    "data.thalach.replace('?',np.nan,inplace=True)\n",
    "data.exang.replace('?',np.nan,inplace=True)\n",
    "data.oldpeak.replace('?',np.nan,inplace=True)\n",
    "data.slope.replace('?',np.nan,inplace=True)\n",
    "data.ca.replace('?',np.nan,inplace=True)\n",
    "data.thal.replace('?',np.nan,inplace=True)\n",
    "data.isnull().sum().sum()"
   ]
  },
  {
   "cell_type": "code",
   "execution_count": 9,
   "metadata": {},
   "outputs": [],
   "source": [
    "#data.dropna(inplace=True)\n",
    "#data.isnull().sum().sum()"
   ]
  },
  {
   "cell_type": "code",
   "execution_count": 10,
   "metadata": {},
   "outputs": [],
   "source": [
    "data.drop_duplicates(inplace=True)"
   ]
  },
  {
   "cell_type": "code",
   "execution_count": 11,
   "metadata": {},
   "outputs": [
    {
     "data": {
      "text/plain": [
       "131.9732558139535"
      ]
     },
     "execution_count": 11,
     "metadata": {},
     "output_type": "execute_result"
    }
   ],
   "source": [
    "np.asarray(data.trestbps.dropna(), dtype=np.float).mean()"
   ]
  },
  {
   "cell_type": "code",
   "execution_count": 12,
   "metadata": {},
   "outputs": [],
   "source": [
    "data.trestbps.fillna(np.asarray(data.trestbps.dropna(), dtype=np.float).mean(),inplace=True)"
   ]
  },
  {
   "cell_type": "code",
   "execution_count": 13,
   "metadata": {},
   "outputs": [
    {
     "name": "stdout",
     "output_type": "stream",
     "text": [
      "[0]\n"
     ]
    }
   ],
   "source": [
    "print(stats.mode(np.asarray(data.restecg.dropna(),dtype= np.int)).mode)"
   ]
  },
  {
   "cell_type": "code",
   "execution_count": 14,
   "metadata": {},
   "outputs": [
    {
     "data": {
      "text/plain": [
       "194.08232711306258"
      ]
     },
     "execution_count": 14,
     "metadata": {},
     "output_type": "execute_result"
    }
   ],
   "source": [
    "np.asarray(data.chol.dropna(), dtype=np.float).mean()"
   ]
  },
  {
   "cell_type": "code",
   "execution_count": 15,
   "metadata": {},
   "outputs": [],
   "source": [
    "data.chol.fillna(np.asarray(data.chol.dropna(), dtype=np.float).mean(),inplace=True)"
   ]
  },
  {
   "cell_type": "code",
   "execution_count": 16,
   "metadata": {},
   "outputs": [
    {
     "data": {
      "text/plain": [
       "909"
      ]
     },
     "execution_count": 16,
     "metadata": {},
     "output_type": "execute_result"
    }
   ],
   "source": [
    "data.isnull().sum().sum()"
   ]
  },
  {
   "cell_type": "code",
   "execution_count": 17,
   "metadata": {},
   "outputs": [
    {
     "name": "stdout",
     "output_type": "stream",
     "text": [
      "0\n"
     ]
    }
   ],
   "source": [
    "print(stats.mode(np.asarray(data.fbs.dropna(),dtype= np.int)).mode[0])"
   ]
  },
  {
   "cell_type": "code",
   "execution_count": 18,
   "metadata": {},
   "outputs": [],
   "source": [
    "data.fbs.fillna(stats.mode(np.asarray(data.fbs.dropna(),dtype= np.int)).mode[0],inplace=True)"
   ]
  },
  {
   "cell_type": "code",
   "execution_count": 19,
   "metadata": {},
   "outputs": [
    {
     "data": {
      "text/plain": [
       "827"
      ]
     },
     "execution_count": 19,
     "metadata": {},
     "output_type": "execute_result"
    }
   ],
   "source": [
    "data.isnull().sum().sum()"
   ]
  },
  {
   "cell_type": "code",
   "execution_count": 20,
   "metadata": {},
   "outputs": [
    {
     "name": "stdout",
     "output_type": "stream",
     "text": [
      "ModeResult(mode=array([0]), count=array([550]))\n"
     ]
    }
   ],
   "source": [
    "print(stats.mode(np.asarray(data.restecg.dropna(),dtype= np.int)))"
   ]
  },
  {
   "cell_type": "code",
   "execution_count": 21,
   "metadata": {},
   "outputs": [
    {
     "name": "stdout",
     "output_type": "stream",
     "text": [
      "0\n"
     ]
    }
   ],
   "source": [
    "print(stats.mode(np.asarray(data.restecg.dropna(),dtype= np.int)).mode[0])\n",
    "data.restecg.fillna(stats.mode(np.asarray(data.restecg.dropna(),dtype= np.int)).mode[0],inplace=True)"
   ]
  },
  {
   "cell_type": "code",
   "execution_count": 22,
   "metadata": {},
   "outputs": [
    {
     "data": {
      "text/plain": [
       "826"
      ]
     },
     "execution_count": 22,
     "metadata": {},
     "output_type": "execute_result"
    }
   ],
   "source": [
    "data.isnull().sum().sum()"
   ]
  },
  {
   "cell_type": "code",
   "execution_count": 23,
   "metadata": {},
   "outputs": [
    {
     "data": {
      "text/plain": [
       "137.3726851851852"
      ]
     },
     "execution_count": 23,
     "metadata": {},
     "output_type": "execute_result"
    }
   ],
   "source": [
    "np.asarray(data.thalach.dropna(), dtype=np.float).mean()"
   ]
  },
  {
   "cell_type": "code",
   "execution_count": 24,
   "metadata": {},
   "outputs": [],
   "source": [
    "data.thalach.fillna(np.asarray(data.thalach.dropna(), dtype=np.float).mean(),inplace=True)"
   ]
  },
  {
   "cell_type": "code",
   "execution_count": 25,
   "metadata": {},
   "outputs": [
    {
     "data": {
      "text/plain": [
       "772"
      ]
     },
     "execution_count": 25,
     "metadata": {},
     "output_type": "execute_result"
    }
   ],
   "source": [
    "data.isnull().sum().sum()"
   ]
  },
  {
   "cell_type": "code",
   "execution_count": 26,
   "metadata": {},
   "outputs": [
    {
     "name": "stdout",
     "output_type": "stream",
     "text": [
      "ModeResult(mode=array([0]), count=array([527]))\n"
     ]
    }
   ],
   "source": [
    "print(stats.mode(np.asarray(data.exang.dropna(),dtype= np.int)))"
   ]
  },
  {
   "cell_type": "code",
   "execution_count": 27,
   "metadata": {},
   "outputs": [
    {
     "name": "stdout",
     "output_type": "stream",
     "text": [
      "0\n"
     ]
    }
   ],
   "source": [
    "print(stats.mode(np.asarray(data.exang.dropna(),dtype= np.int)).mode[0])\n",
    "data.exang.fillna(stats.mode(np.asarray(data.exang.dropna(),dtype= np.int)).mode[0],inplace=True)"
   ]
  },
  {
   "cell_type": "code",
   "execution_count": 28,
   "metadata": {},
   "outputs": [
    {
     "data": {
      "text/plain": [
       "718"
      ]
     },
     "execution_count": 28,
     "metadata": {},
     "output_type": "execute_result"
    }
   ],
   "source": [
    "data.isnull().sum().sum()"
   ]
  },
  {
   "cell_type": "code",
   "execution_count": 29,
   "metadata": {},
   "outputs": [
    {
     "data": {
      "text/plain": [
       "0.8808411214953271"
      ]
     },
     "execution_count": 29,
     "metadata": {},
     "output_type": "execute_result"
    }
   ],
   "source": [
    "np.asarray(data.oldpeak.dropna(), dtype=np.float).mean()"
   ]
  },
  {
   "cell_type": "code",
   "execution_count": 30,
   "metadata": {},
   "outputs": [],
   "source": [
    "data.oldpeak.fillna(np.asarray(data.oldpeak.dropna(), dtype=np.float).mean(),inplace=True)"
   ]
  },
  {
   "cell_type": "code",
   "execution_count": 31,
   "metadata": {},
   "outputs": [
    {
     "data": {
      "text/plain": [
       "656"
      ]
     },
     "execution_count": 31,
     "metadata": {},
     "output_type": "execute_result"
    }
   ],
   "source": [
    "data.isnull().sum().sum()"
   ]
  },
  {
   "cell_type": "code",
   "execution_count": 32,
   "metadata": {},
   "outputs": [
    {
     "name": "stdout",
     "output_type": "stream",
     "text": [
      "ModeResult(mode=array([2]), count=array([345]))\n"
     ]
    }
   ],
   "source": [
    "print(stats.mode(np.asarray(data.slope.dropna(),dtype= np.int)))"
   ]
  },
  {
   "cell_type": "code",
   "execution_count": 33,
   "metadata": {},
   "outputs": [
    {
     "name": "stdout",
     "output_type": "stream",
     "text": [
      "2\n"
     ]
    }
   ],
   "source": [
    "print(stats.mode(np.asarray(data.slope.dropna(),dtype= np.int)).mode[0])\n",
    "data.slope.fillna(stats.mode(np.asarray(data.slope.dropna(),dtype= np.int)).mode[0],inplace=True)"
   ]
  },
  {
   "cell_type": "code",
   "execution_count": 34,
   "metadata": {},
   "outputs": [
    {
     "data": {
      "text/plain": [
       "538"
      ]
     },
     "execution_count": 34,
     "metadata": {},
     "output_type": "execute_result"
    }
   ],
   "source": [
    "data.isnull().sum().sum()"
   ]
  },
  {
   "cell_type": "code",
   "execution_count": 35,
   "metadata": {},
   "outputs": [
    {
     "name": "stdout",
     "output_type": "stream",
     "text": [
      "ModeResult(mode=array([-9.]), count=array([289]))\n"
     ]
    }
   ],
   "source": [
    "print(stats.mode(np.asarray(data.ca.dropna(),dtype= np.float)))"
   ]
  },
  {
   "cell_type": "code",
   "execution_count": 36,
   "metadata": {},
   "outputs": [
    {
     "name": "stdout",
     "output_type": "stream",
     "text": [
      "-9.0\n"
     ]
    }
   ],
   "source": [
    "print(stats.mode(np.asarray(data.ca.dropna(),dtype= np.float)).mode[0])\n",
    "data.ca.fillna(stats.mode(np.asarray(data.ca.dropna(),dtype= np.float)).mode[0],inplace=True)"
   ]
  },
  {
   "cell_type": "code",
   "execution_count": 37,
   "metadata": {},
   "outputs": [
    {
     "data": {
      "text/plain": [
       "219"
      ]
     },
     "execution_count": 37,
     "metadata": {},
     "output_type": "execute_result"
    }
   ],
   "source": [
    "data.isnull().sum().sum()"
   ]
  },
  {
   "cell_type": "code",
   "execution_count": 38,
   "metadata": {},
   "outputs": [
    {
     "name": "stdout",
     "output_type": "stream",
     "text": [
      "ModeResult(mode=array([-9.]), count=array([265]))\n"
     ]
    }
   ],
   "source": [
    "print(stats.mode(np.asarray(data.thal.dropna(),dtype= np.float)))"
   ]
  },
  {
   "cell_type": "code",
   "execution_count": 39,
   "metadata": {},
   "outputs": [
    {
     "name": "stdout",
     "output_type": "stream",
     "text": [
      "-9.0\n"
     ]
    }
   ],
   "source": [
    "print(stats.mode(np.asarray(data.thal.dropna(),dtype= np.float)).mode[0])\n",
    "data.thal.fillna(stats.mode(np.asarray(data.thal.dropna(),dtype= np.float)).mode[0],inplace=True)"
   ]
  },
  {
   "cell_type": "code",
   "execution_count": 40,
   "metadata": {},
   "outputs": [
    {
     "data": {
      "text/plain": [
       "0"
      ]
     },
     "execution_count": 40,
     "metadata": {},
     "output_type": "execute_result"
    }
   ],
   "source": [
    "data.isnull().sum().sum()"
   ]
  },
  {
   "cell_type": "code",
   "execution_count": 41,
   "metadata": {},
   "outputs": [
    {
     "data": {
      "text/html": [
       "<div>\n",
       "<style scoped>\n",
       "    .dataframe tbody tr th:only-of-type {\n",
       "        vertical-align: middle;\n",
       "    }\n",
       "\n",
       "    .dataframe tbody tr th {\n",
       "        vertical-align: top;\n",
       "    }\n",
       "\n",
       "    .dataframe thead th {\n",
       "        text-align: right;\n",
       "    }\n",
       "</style>\n",
       "<table border=\"1\" class=\"dataframe\">\n",
       "  <thead>\n",
       "    <tr style=\"text-align: right;\">\n",
       "      <th></th>\n",
       "      <th>age</th>\n",
       "      <th>sex</th>\n",
       "      <th>cp</th>\n",
       "      <th>trestbps</th>\n",
       "      <th>chol</th>\n",
       "      <th>fbs</th>\n",
       "      <th>restecg</th>\n",
       "      <th>thalach</th>\n",
       "      <th>exang</th>\n",
       "      <th>oldpeak</th>\n",
       "      <th>slope</th>\n",
       "      <th>ca</th>\n",
       "      <th>thal</th>\n",
       "      <th>num</th>\n",
       "    </tr>\n",
       "  </thead>\n",
       "  <tbody>\n",
       "    <tr>\n",
       "      <th>0</th>\n",
       "      <td>32.0</td>\n",
       "      <td>1.0</td>\n",
       "      <td>1.0</td>\n",
       "      <td>95</td>\n",
       "      <td>0</td>\n",
       "      <td>0</td>\n",
       "      <td>0</td>\n",
       "      <td>127</td>\n",
       "      <td>0</td>\n",
       "      <td>.7</td>\n",
       "      <td>1</td>\n",
       "      <td>-9</td>\n",
       "      <td>-9</td>\n",
       "      <td>1</td>\n",
       "    </tr>\n",
       "    <tr>\n",
       "      <th>1</th>\n",
       "      <td>34.0</td>\n",
       "      <td>1.0</td>\n",
       "      <td>4.0</td>\n",
       "      <td>115</td>\n",
       "      <td>0</td>\n",
       "      <td>0</td>\n",
       "      <td>0</td>\n",
       "      <td>154</td>\n",
       "      <td>0</td>\n",
       "      <td>.2</td>\n",
       "      <td>1</td>\n",
       "      <td>-9</td>\n",
       "      <td>-9</td>\n",
       "      <td>1</td>\n",
       "    </tr>\n",
       "    <tr>\n",
       "      <th>2</th>\n",
       "      <td>35.0</td>\n",
       "      <td>1.0</td>\n",
       "      <td>4.0</td>\n",
       "      <td>131.973</td>\n",
       "      <td>0</td>\n",
       "      <td>0</td>\n",
       "      <td>0</td>\n",
       "      <td>130</td>\n",
       "      <td>1</td>\n",
       "      <td>0.880841</td>\n",
       "      <td>2</td>\n",
       "      <td>-9</td>\n",
       "      <td>7</td>\n",
       "      <td>1</td>\n",
       "    </tr>\n",
       "    <tr>\n",
       "      <th>3</th>\n",
       "      <td>36.0</td>\n",
       "      <td>1.0</td>\n",
       "      <td>4.0</td>\n",
       "      <td>110</td>\n",
       "      <td>0</td>\n",
       "      <td>0</td>\n",
       "      <td>0</td>\n",
       "      <td>125</td>\n",
       "      <td>1</td>\n",
       "      <td>1</td>\n",
       "      <td>2</td>\n",
       "      <td>-9</td>\n",
       "      <td>6</td>\n",
       "      <td>1</td>\n",
       "    </tr>\n",
       "    <tr>\n",
       "      <th>4</th>\n",
       "      <td>38.0</td>\n",
       "      <td>0.0</td>\n",
       "      <td>4.0</td>\n",
       "      <td>105</td>\n",
       "      <td>0</td>\n",
       "      <td>0</td>\n",
       "      <td>0</td>\n",
       "      <td>166</td>\n",
       "      <td>0</td>\n",
       "      <td>2.8</td>\n",
       "      <td>1</td>\n",
       "      <td>-9</td>\n",
       "      <td>-9</td>\n",
       "      <td>1</td>\n",
       "    </tr>\n",
       "  </tbody>\n",
       "</table>\n",
       "</div>"
      ],
      "text/plain": [
       "    age  sex   cp trestbps chol fbs restecg thalach exang   oldpeak slope ca  \\\n",
       "0  32.0  1.0  1.0       95    0   0       0     127     0        .7     1 -9   \n",
       "1  34.0  1.0  4.0      115    0   0       0     154     0        .2     1 -9   \n",
       "2  35.0  1.0  4.0  131.973    0   0       0     130     1  0.880841     2 -9   \n",
       "3  36.0  1.0  4.0      110    0   0       0     125     1         1     2 -9   \n",
       "4  38.0  0.0  4.0      105    0   0       0     166     0       2.8     1 -9   \n",
       "\n",
       "  thal  num  \n",
       "0   -9    1  \n",
       "1   -9    1  \n",
       "2    7    1  \n",
       "3    6    1  \n",
       "4   -9    1  "
      ]
     },
     "execution_count": 41,
     "metadata": {},
     "output_type": "execute_result"
    }
   ],
   "source": [
    "data.head()"
   ]
  },
  {
   "cell_type": "code",
   "execution_count": 42,
   "metadata": {},
   "outputs": [],
   "source": [
    "# converting all the data to numeric data type\n",
    "data.trestbps=pd.to_numeric(data.trestbps)\n",
    "data.fbs=pd.to_numeric(data.fbs)\n",
    "data.chol=pd.to_numeric(data.chol)\n",
    "data.restecg=pd.to_numeric(data.restecg)\n",
    "data.thalach=pd.to_numeric(data.thalach)\n",
    "data.exang=pd.to_numeric(data.exang)\n",
    "data.oldpeak=pd.to_numeric(data.oldpeak)\n",
    "data.slope=pd.to_numeric(data.slope)\n",
    "data.ca=pd.to_numeric(data.ca)\n",
    "data.thal=pd.to_numeric(data.thal)"
   ]
  },
  {
   "cell_type": "code",
   "execution_count": 43,
   "metadata": {},
   "outputs": [
    {
     "name": "stdout",
     "output_type": "stream",
     "text": [
      "<class 'pandas.core.frame.DataFrame'>\n",
      "Int64Index: 918 entries, 0 to 199\n",
      "Data columns (total 14 columns):\n",
      "age         918 non-null float64\n",
      "sex         918 non-null float64\n",
      "cp          918 non-null float64\n",
      "trestbps    918 non-null float64\n",
      "chol        918 non-null float64\n",
      "fbs         918 non-null float64\n",
      "restecg     918 non-null float64\n",
      "thalach     918 non-null float64\n",
      "exang       918 non-null float64\n",
      "oldpeak     918 non-null float64\n",
      "slope       918 non-null float64\n",
      "ca          918 non-null float64\n",
      "thal        918 non-null float64\n",
      "num         918 non-null int64\n",
      "dtypes: float64(13), int64(1)\n",
      "memory usage: 107.6 KB\n"
     ]
    }
   ],
   "source": [
    "data.info()"
   ]
  },
  {
   "cell_type": "code",
   "execution_count": 44,
   "metadata": {},
   "outputs": [
    {
     "data": {
      "text/html": [
       "<div>\n",
       "<style scoped>\n",
       "    .dataframe tbody tr th:only-of-type {\n",
       "        vertical-align: middle;\n",
       "    }\n",
       "\n",
       "    .dataframe tbody tr th {\n",
       "        vertical-align: top;\n",
       "    }\n",
       "\n",
       "    .dataframe thead th {\n",
       "        text-align: right;\n",
       "    }\n",
       "</style>\n",
       "<table border=\"1\" class=\"dataframe\">\n",
       "  <thead>\n",
       "    <tr style=\"text-align: right;\">\n",
       "      <th></th>\n",
       "      <th>age</th>\n",
       "      <th>sex</th>\n",
       "      <th>cp</th>\n",
       "      <th>trestbps</th>\n",
       "      <th>chol</th>\n",
       "      <th>fbs</th>\n",
       "      <th>restecg</th>\n",
       "      <th>thalach</th>\n",
       "      <th>exang</th>\n",
       "      <th>oldpeak</th>\n",
       "      <th>slope</th>\n",
       "      <th>ca</th>\n",
       "      <th>thal</th>\n",
       "      <th>num</th>\n",
       "    </tr>\n",
       "  </thead>\n",
       "  <tbody>\n",
       "    <tr>\n",
       "      <th>count</th>\n",
       "      <td>918.000000</td>\n",
       "      <td>918.000000</td>\n",
       "      <td>918.000000</td>\n",
       "      <td>918.000000</td>\n",
       "      <td>918.000000</td>\n",
       "      <td>918.000000</td>\n",
       "      <td>918.000000</td>\n",
       "      <td>918.000000</td>\n",
       "      <td>918.000000</td>\n",
       "      <td>918.000000</td>\n",
       "      <td>918.000000</td>\n",
       "      <td>918.000000</td>\n",
       "      <td>918.000000</td>\n",
       "      <td>918.000000</td>\n",
       "    </tr>\n",
       "    <tr>\n",
       "      <th>mean</th>\n",
       "      <td>53.510893</td>\n",
       "      <td>0.789760</td>\n",
       "      <td>3.251634</td>\n",
       "      <td>131.973256</td>\n",
       "      <td>194.082327</td>\n",
       "      <td>0.071895</td>\n",
       "      <td>0.593682</td>\n",
       "      <td>137.372685</td>\n",
       "      <td>0.356209</td>\n",
       "      <td>0.880841</td>\n",
       "      <td>-0.417211</td>\n",
       "      <td>-5.723312</td>\n",
       "      <td>-2.339869</td>\n",
       "      <td>0.553377</td>\n",
       "    </tr>\n",
       "    <tr>\n",
       "      <th>std</th>\n",
       "      <td>9.432617</td>\n",
       "      <td>0.407701</td>\n",
       "      <td>0.931031</td>\n",
       "      <td>19.019315</td>\n",
       "      <td>113.627339</td>\n",
       "      <td>0.923021</td>\n",
       "      <td>0.865832</td>\n",
       "      <td>25.607557</td>\n",
       "      <td>0.572469</td>\n",
       "      <td>1.054122</td>\n",
       "      <td>4.402241</td>\n",
       "      <td>4.631423</td>\n",
       "      <td>7.159650</td>\n",
       "      <td>0.497414</td>\n",
       "    </tr>\n",
       "    <tr>\n",
       "      <th>min</th>\n",
       "      <td>28.000000</td>\n",
       "      <td>0.000000</td>\n",
       "      <td>1.000000</td>\n",
       "      <td>-9.000000</td>\n",
       "      <td>-9.000000</td>\n",
       "      <td>-9.000000</td>\n",
       "      <td>-9.000000</td>\n",
       "      <td>-9.000000</td>\n",
       "      <td>-9.000000</td>\n",
       "      <td>-2.600000</td>\n",
       "      <td>-9.000000</td>\n",
       "      <td>-9.000000</td>\n",
       "      <td>-9.000000</td>\n",
       "      <td>0.000000</td>\n",
       "    </tr>\n",
       "    <tr>\n",
       "      <th>25%</th>\n",
       "      <td>47.000000</td>\n",
       "      <td>1.000000</td>\n",
       "      <td>3.000000</td>\n",
       "      <td>120.000000</td>\n",
       "      <td>168.000000</td>\n",
       "      <td>0.000000</td>\n",
       "      <td>0.000000</td>\n",
       "      <td>120.000000</td>\n",
       "      <td>0.000000</td>\n",
       "      <td>0.000000</td>\n",
       "      <td>1.000000</td>\n",
       "      <td>-9.000000</td>\n",
       "      <td>-9.000000</td>\n",
       "      <td>0.000000</td>\n",
       "    </tr>\n",
       "    <tr>\n",
       "      <th>50%</th>\n",
       "      <td>54.000000</td>\n",
       "      <td>1.000000</td>\n",
       "      <td>4.000000</td>\n",
       "      <td>130.000000</td>\n",
       "      <td>221.000000</td>\n",
       "      <td>0.000000</td>\n",
       "      <td>0.000000</td>\n",
       "      <td>138.000000</td>\n",
       "      <td>0.000000</td>\n",
       "      <td>0.800000</td>\n",
       "      <td>2.000000</td>\n",
       "      <td>-9.000000</td>\n",
       "      <td>-9.000000</td>\n",
       "      <td>1.000000</td>\n",
       "    </tr>\n",
       "    <tr>\n",
       "      <th>75%</th>\n",
       "      <td>60.000000</td>\n",
       "      <td>1.000000</td>\n",
       "      <td>4.000000</td>\n",
       "      <td>140.000000</td>\n",
       "      <td>267.000000</td>\n",
       "      <td>0.000000</td>\n",
       "      <td>1.000000</td>\n",
       "      <td>155.750000</td>\n",
       "      <td>1.000000</td>\n",
       "      <td>1.500000</td>\n",
       "      <td>2.000000</td>\n",
       "      <td>0.000000</td>\n",
       "      <td>6.000000</td>\n",
       "      <td>1.000000</td>\n",
       "    </tr>\n",
       "    <tr>\n",
       "      <th>max</th>\n",
       "      <td>77.000000</td>\n",
       "      <td>1.000000</td>\n",
       "      <td>4.000000</td>\n",
       "      <td>200.000000</td>\n",
       "      <td>603.000000</td>\n",
       "      <td>1.000000</td>\n",
       "      <td>2.000000</td>\n",
       "      <td>202.000000</td>\n",
       "      <td>1.000000</td>\n",
       "      <td>6.200000</td>\n",
       "      <td>3.000000</td>\n",
       "      <td>9.000000</td>\n",
       "      <td>7.000000</td>\n",
       "      <td>1.000000</td>\n",
       "    </tr>\n",
       "  </tbody>\n",
       "</table>\n",
       "</div>"
      ],
      "text/plain": [
       "              age         sex          cp    trestbps        chol         fbs  \\\n",
       "count  918.000000  918.000000  918.000000  918.000000  918.000000  918.000000   \n",
       "mean    53.510893    0.789760    3.251634  131.973256  194.082327    0.071895   \n",
       "std      9.432617    0.407701    0.931031   19.019315  113.627339    0.923021   \n",
       "min     28.000000    0.000000    1.000000   -9.000000   -9.000000   -9.000000   \n",
       "25%     47.000000    1.000000    3.000000  120.000000  168.000000    0.000000   \n",
       "50%     54.000000    1.000000    4.000000  130.000000  221.000000    0.000000   \n",
       "75%     60.000000    1.000000    4.000000  140.000000  267.000000    0.000000   \n",
       "max     77.000000    1.000000    4.000000  200.000000  603.000000    1.000000   \n",
       "\n",
       "          restecg     thalach       exang     oldpeak       slope          ca  \\\n",
       "count  918.000000  918.000000  918.000000  918.000000  918.000000  918.000000   \n",
       "mean     0.593682  137.372685    0.356209    0.880841   -0.417211   -5.723312   \n",
       "std      0.865832   25.607557    0.572469    1.054122    4.402241    4.631423   \n",
       "min     -9.000000   -9.000000   -9.000000   -2.600000   -9.000000   -9.000000   \n",
       "25%      0.000000  120.000000    0.000000    0.000000    1.000000   -9.000000   \n",
       "50%      0.000000  138.000000    0.000000    0.800000    2.000000   -9.000000   \n",
       "75%      1.000000  155.750000    1.000000    1.500000    2.000000    0.000000   \n",
       "max      2.000000  202.000000    1.000000    6.200000    3.000000    9.000000   \n",
       "\n",
       "             thal         num  \n",
       "count  918.000000  918.000000  \n",
       "mean    -2.339869    0.553377  \n",
       "std      7.159650    0.497414  \n",
       "min     -9.000000    0.000000  \n",
       "25%     -9.000000    0.000000  \n",
       "50%     -9.000000    1.000000  \n",
       "75%      6.000000    1.000000  \n",
       "max      7.000000    1.000000  "
      ]
     },
     "execution_count": 44,
     "metadata": {},
     "output_type": "execute_result"
    }
   ],
   "source": [
    "data.describe()"
   ]
  },
  {
   "cell_type": "code",
   "execution_count": 45,
   "metadata": {},
   "outputs": [
    {
     "data": {
      "text/html": [
       "<div>\n",
       "<style scoped>\n",
       "    .dataframe tbody tr th:only-of-type {\n",
       "        vertical-align: middle;\n",
       "    }\n",
       "\n",
       "    .dataframe tbody tr th {\n",
       "        vertical-align: top;\n",
       "    }\n",
       "\n",
       "    .dataframe thead th {\n",
       "        text-align: right;\n",
       "    }\n",
       "</style>\n",
       "<table border=\"1\" class=\"dataframe\">\n",
       "  <thead>\n",
       "    <tr style=\"text-align: right;\">\n",
       "      <th></th>\n",
       "      <th>age</th>\n",
       "      <th>sex</th>\n",
       "      <th>cp</th>\n",
       "      <th>trestbps</th>\n",
       "      <th>chol</th>\n",
       "      <th>fbs</th>\n",
       "      <th>restecg</th>\n",
       "      <th>thalach</th>\n",
       "      <th>exang</th>\n",
       "      <th>oldpeak</th>\n",
       "      <th>slope</th>\n",
       "      <th>ca</th>\n",
       "      <th>thal</th>\n",
       "      <th>num</th>\n",
       "    </tr>\n",
       "  </thead>\n",
       "  <tbody>\n",
       "    <tr>\n",
       "      <th>age</th>\n",
       "      <td>1.000000</td>\n",
       "      <td>0.055750</td>\n",
       "      <td>0.165896</td>\n",
       "      <td>0.231752</td>\n",
       "      <td>-0.057530</td>\n",
       "      <td>0.142823</td>\n",
       "      <td>0.196625</td>\n",
       "      <td>-0.343219</td>\n",
       "      <td>0.144787</td>\n",
       "      <td>0.248404</td>\n",
       "      <td>0.393708</td>\n",
       "      <td>0.106245</td>\n",
       "      <td>0.117012</td>\n",
       "      <td>0.282039</td>\n",
       "    </tr>\n",
       "    <tr>\n",
       "      <th>sex</th>\n",
       "      <td>0.055750</td>\n",
       "      <td>1.000000</td>\n",
       "      <td>0.168254</td>\n",
       "      <td>0.013482</td>\n",
       "      <td>-0.179966</td>\n",
       "      <td>0.089474</td>\n",
       "      <td>-0.022920</td>\n",
       "      <td>-0.160277</td>\n",
       "      <td>0.162357</td>\n",
       "      <td>0.101806</td>\n",
       "      <td>0.107835</td>\n",
       "      <td>-0.179958</td>\n",
       "      <td>-0.053272</td>\n",
       "      <td>0.305445</td>\n",
       "    </tr>\n",
       "    <tr>\n",
       "      <th>cp</th>\n",
       "      <td>0.165896</td>\n",
       "      <td>0.168254</td>\n",
       "      <td>1.000000</td>\n",
       "      <td>0.033057</td>\n",
       "      <td>-0.109500</td>\n",
       "      <td>0.030953</td>\n",
       "      <td>0.056627</td>\n",
       "      <td>-0.323778</td>\n",
       "      <td>0.361568</td>\n",
       "      <td>0.234629</td>\n",
       "      <td>0.304482</td>\n",
       "      <td>-0.044489</td>\n",
       "      <td>0.086790</td>\n",
       "      <td>0.471354</td>\n",
       "    </tr>\n",
       "    <tr>\n",
       "      <th>trestbps</th>\n",
       "      <td>0.231752</td>\n",
       "      <td>0.013482</td>\n",
       "      <td>0.033057</td>\n",
       "      <td>1.000000</td>\n",
       "      <td>0.067946</td>\n",
       "      <td>0.080890</td>\n",
       "      <td>0.077705</td>\n",
       "      <td>-0.051629</td>\n",
       "      <td>0.252564</td>\n",
       "      <td>0.146878</td>\n",
       "      <td>0.050517</td>\n",
       "      <td>0.000129</td>\n",
       "      <td>0.054583</td>\n",
       "      <td>0.106572</td>\n",
       "    </tr>\n",
       "    <tr>\n",
       "      <th>chol</th>\n",
       "      <td>-0.057530</td>\n",
       "      <td>-0.179966</td>\n",
       "      <td>-0.109500</td>\n",
       "      <td>0.067946</td>\n",
       "      <td>1.000000</td>\n",
       "      <td>-0.044182</td>\n",
       "      <td>0.118922</td>\n",
       "      <td>0.206895</td>\n",
       "      <td>-0.028680</td>\n",
       "      <td>0.066173</td>\n",
       "      <td>-0.123710</td>\n",
       "      <td>0.292163</td>\n",
       "      <td>0.029646</td>\n",
       "      <td>-0.189207</td>\n",
       "    </tr>\n",
       "    <tr>\n",
       "      <th>fbs</th>\n",
       "      <td>0.142823</td>\n",
       "      <td>0.089474</td>\n",
       "      <td>0.030953</td>\n",
       "      <td>0.080890</td>\n",
       "      <td>-0.044182</td>\n",
       "      <td>1.000000</td>\n",
       "      <td>0.087081</td>\n",
       "      <td>-0.010186</td>\n",
       "      <td>0.017522</td>\n",
       "      <td>0.060080</td>\n",
       "      <td>0.140773</td>\n",
       "      <td>0.057075</td>\n",
       "      <td>0.041820</td>\n",
       "      <td>0.093766</td>\n",
       "    </tr>\n",
       "    <tr>\n",
       "      <th>restecg</th>\n",
       "      <td>0.196625</td>\n",
       "      <td>-0.022920</td>\n",
       "      <td>0.056627</td>\n",
       "      <td>0.077705</td>\n",
       "      <td>0.118922</td>\n",
       "      <td>0.087081</td>\n",
       "      <td>1.000000</td>\n",
       "      <td>0.045817</td>\n",
       "      <td>0.015106</td>\n",
       "      <td>0.117979</td>\n",
       "      <td>0.250449</td>\n",
       "      <td>0.327750</td>\n",
       "      <td>0.240693</td>\n",
       "      <td>0.046615</td>\n",
       "    </tr>\n",
       "    <tr>\n",
       "      <th>thalach</th>\n",
       "      <td>-0.343219</td>\n",
       "      <td>-0.160277</td>\n",
       "      <td>-0.323778</td>\n",
       "      <td>-0.051629</td>\n",
       "      <td>0.206895</td>\n",
       "      <td>-0.010186</td>\n",
       "      <td>0.045817</td>\n",
       "      <td>1.000000</td>\n",
       "      <td>-0.186038</td>\n",
       "      <td>-0.153690</td>\n",
       "      <td>-0.184902</td>\n",
       "      <td>0.295947</td>\n",
       "      <td>0.092999</td>\n",
       "      <td>-0.368079</td>\n",
       "    </tr>\n",
       "    <tr>\n",
       "      <th>exang</th>\n",
       "      <td>0.144787</td>\n",
       "      <td>0.162357</td>\n",
       "      <td>0.361568</td>\n",
       "      <td>0.252564</td>\n",
       "      <td>-0.028680</td>\n",
       "      <td>0.017522</td>\n",
       "      <td>0.015106</td>\n",
       "      <td>-0.186038</td>\n",
       "      <td>1.000000</td>\n",
       "      <td>0.304479</td>\n",
       "      <td>0.276259</td>\n",
       "      <td>-0.016237</td>\n",
       "      <td>0.090232</td>\n",
       "      <td>0.383142</td>\n",
       "    </tr>\n",
       "    <tr>\n",
       "      <th>oldpeak</th>\n",
       "      <td>0.248404</td>\n",
       "      <td>0.101806</td>\n",
       "      <td>0.234629</td>\n",
       "      <td>0.146878</td>\n",
       "      <td>0.066173</td>\n",
       "      <td>0.060080</td>\n",
       "      <td>0.117979</td>\n",
       "      <td>-0.153690</td>\n",
       "      <td>0.304479</td>\n",
       "      <td>1.000000</td>\n",
       "      <td>0.451124</td>\n",
       "      <td>0.129986</td>\n",
       "      <td>0.061757</td>\n",
       "      <td>0.373423</td>\n",
       "    </tr>\n",
       "    <tr>\n",
       "      <th>slope</th>\n",
       "      <td>0.393708</td>\n",
       "      <td>0.107835</td>\n",
       "      <td>0.304482</td>\n",
       "      <td>0.050517</td>\n",
       "      <td>-0.123710</td>\n",
       "      <td>0.140773</td>\n",
       "      <td>0.250449</td>\n",
       "      <td>-0.184902</td>\n",
       "      <td>0.276259</td>\n",
       "      <td>0.451124</td>\n",
       "      <td>1.000000</td>\n",
       "      <td>0.317172</td>\n",
       "      <td>0.359583</td>\n",
       "      <td>0.416309</td>\n",
       "    </tr>\n",
       "    <tr>\n",
       "      <th>ca</th>\n",
       "      <td>0.106245</td>\n",
       "      <td>-0.179958</td>\n",
       "      <td>-0.044489</td>\n",
       "      <td>0.000129</td>\n",
       "      <td>0.292163</td>\n",
       "      <td>0.057075</td>\n",
       "      <td>0.327750</td>\n",
       "      <td>0.295947</td>\n",
       "      <td>-0.016237</td>\n",
       "      <td>0.129986</td>\n",
       "      <td>0.317172</td>\n",
       "      <td>1.000000</td>\n",
       "      <td>0.652950</td>\n",
       "      <td>-0.097304</td>\n",
       "    </tr>\n",
       "    <tr>\n",
       "      <th>thal</th>\n",
       "      <td>0.117012</td>\n",
       "      <td>-0.053272</td>\n",
       "      <td>0.086790</td>\n",
       "      <td>0.054583</td>\n",
       "      <td>0.029646</td>\n",
       "      <td>0.041820</td>\n",
       "      <td>0.240693</td>\n",
       "      <td>0.092999</td>\n",
       "      <td>0.090232</td>\n",
       "      <td>0.061757</td>\n",
       "      <td>0.359583</td>\n",
       "      <td>0.652950</td>\n",
       "      <td>1.000000</td>\n",
       "      <td>0.092370</td>\n",
       "    </tr>\n",
       "    <tr>\n",
       "      <th>num</th>\n",
       "      <td>0.282039</td>\n",
       "      <td>0.305445</td>\n",
       "      <td>0.471354</td>\n",
       "      <td>0.106572</td>\n",
       "      <td>-0.189207</td>\n",
       "      <td>0.093766</td>\n",
       "      <td>0.046615</td>\n",
       "      <td>-0.368079</td>\n",
       "      <td>0.383142</td>\n",
       "      <td>0.373423</td>\n",
       "      <td>0.416309</td>\n",
       "      <td>-0.097304</td>\n",
       "      <td>0.092370</td>\n",
       "      <td>1.000000</td>\n",
       "    </tr>\n",
       "  </tbody>\n",
       "</table>\n",
       "</div>"
      ],
      "text/plain": [
       "               age       sex        cp  trestbps      chol       fbs  \\\n",
       "age       1.000000  0.055750  0.165896  0.231752 -0.057530  0.142823   \n",
       "sex       0.055750  1.000000  0.168254  0.013482 -0.179966  0.089474   \n",
       "cp        0.165896  0.168254  1.000000  0.033057 -0.109500  0.030953   \n",
       "trestbps  0.231752  0.013482  0.033057  1.000000  0.067946  0.080890   \n",
       "chol     -0.057530 -0.179966 -0.109500  0.067946  1.000000 -0.044182   \n",
       "fbs       0.142823  0.089474  0.030953  0.080890 -0.044182  1.000000   \n",
       "restecg   0.196625 -0.022920  0.056627  0.077705  0.118922  0.087081   \n",
       "thalach  -0.343219 -0.160277 -0.323778 -0.051629  0.206895 -0.010186   \n",
       "exang     0.144787  0.162357  0.361568  0.252564 -0.028680  0.017522   \n",
       "oldpeak   0.248404  0.101806  0.234629  0.146878  0.066173  0.060080   \n",
       "slope     0.393708  0.107835  0.304482  0.050517 -0.123710  0.140773   \n",
       "ca        0.106245 -0.179958 -0.044489  0.000129  0.292163  0.057075   \n",
       "thal      0.117012 -0.053272  0.086790  0.054583  0.029646  0.041820   \n",
       "num       0.282039  0.305445  0.471354  0.106572 -0.189207  0.093766   \n",
       "\n",
       "           restecg   thalach     exang   oldpeak     slope        ca  \\\n",
       "age       0.196625 -0.343219  0.144787  0.248404  0.393708  0.106245   \n",
       "sex      -0.022920 -0.160277  0.162357  0.101806  0.107835 -0.179958   \n",
       "cp        0.056627 -0.323778  0.361568  0.234629  0.304482 -0.044489   \n",
       "trestbps  0.077705 -0.051629  0.252564  0.146878  0.050517  0.000129   \n",
       "chol      0.118922  0.206895 -0.028680  0.066173 -0.123710  0.292163   \n",
       "fbs       0.087081 -0.010186  0.017522  0.060080  0.140773  0.057075   \n",
       "restecg   1.000000  0.045817  0.015106  0.117979  0.250449  0.327750   \n",
       "thalach   0.045817  1.000000 -0.186038 -0.153690 -0.184902  0.295947   \n",
       "exang     0.015106 -0.186038  1.000000  0.304479  0.276259 -0.016237   \n",
       "oldpeak   0.117979 -0.153690  0.304479  1.000000  0.451124  0.129986   \n",
       "slope     0.250449 -0.184902  0.276259  0.451124  1.000000  0.317172   \n",
       "ca        0.327750  0.295947 -0.016237  0.129986  0.317172  1.000000   \n",
       "thal      0.240693  0.092999  0.090232  0.061757  0.359583  0.652950   \n",
       "num       0.046615 -0.368079  0.383142  0.373423  0.416309 -0.097304   \n",
       "\n",
       "              thal       num  \n",
       "age       0.117012  0.282039  \n",
       "sex      -0.053272  0.305445  \n",
       "cp        0.086790  0.471354  \n",
       "trestbps  0.054583  0.106572  \n",
       "chol      0.029646 -0.189207  \n",
       "fbs       0.041820  0.093766  \n",
       "restecg   0.240693  0.046615  \n",
       "thalach   0.092999 -0.368079  \n",
       "exang     0.090232  0.383142  \n",
       "oldpeak   0.061757  0.373423  \n",
       "slope     0.359583  0.416309  \n",
       "ca        0.652950 -0.097304  \n",
       "thal      1.000000  0.092370  \n",
       "num       0.092370  1.000000  "
      ]
     },
     "execution_count": 45,
     "metadata": {},
     "output_type": "execute_result"
    }
   ],
   "source": [
    "data.corr()"
   ]
  },
  {
   "cell_type": "code",
   "execution_count": 46,
   "metadata": {},
   "outputs": [],
   "source": [
    "X = data.loc[:,['age','sex','cp','trestbps','chol','fbs','restecg','thalach','exang','oldpeak','slope','ca','thal']]\n",
    "X_scaled = pd.DataFrame(scale(X))\n",
    "y = data.num\n",
    "X_train,X_test,y_train,y_test = train_test_split(X,y, test_size=0.3,random_state=10)\n",
    "X_train_scaled,X_test_scaled,y_train_scaled,y_test_scaled = train_test_split(X_scaled,y, test_size=0.3,random_state=10)\n",
    "\n",
    "#y = pd.DataFrame(scale(y))"
   ]
  },
  {
   "cell_type": "code",
   "execution_count": 47,
   "metadata": {},
   "outputs": [
    {
     "name": "stdout",
     "output_type": "stream",
     "text": [
      "col_0    0    1\n",
      "num            \n",
      "0      102   29\n",
      "1       24  121\n",
      "[[102  29]\n",
      " [ 24 121]]\n",
      "0.8079710144927537\n"
     ]
    }
   ],
   "source": [
    "model_logr = LogisticRegression()\n",
    "model_logr.fit(X_train,y_train)\n",
    "y_predict = model_logr.predict(X_test)\n",
    "print(pd.crosstab(y_test,y_predict))\n",
    "print(confusion_matrix(y_test,y_predict))\n",
    "print(accuracy_score(y_test,y_predict))"
   ]
  },
  {
   "cell_type": "code",
   "execution_count": 48,
   "metadata": {},
   "outputs": [
    {
     "name": "stdout",
     "output_type": "stream",
     "text": [
      "col_0    0    1\n",
      "num            \n",
      "0      101   30\n",
      "1       21  124\n",
      "[[101  30]\n",
      " [ 21 124]]\n",
      "0.8152173913043478\n"
     ]
    }
   ],
   "source": [
    "model_logr = LogisticRegression()\n",
    "model_logr.fit(X_train_scaled,y_train_scaled)\n",
    "y_predict = model_logr.predict(X_test_scaled)\n",
    "print(pd.crosstab(y_test_scaled,y_predict))\n",
    "print(confusion_matrix(y_test_scaled,y_predict))\n",
    "print(accuracy_score(y_test_scaled,y_predict))"
   ]
  },
  {
   "cell_type": "code",
   "execution_count": 49,
   "metadata": {},
   "outputs": [
    {
     "name": "stdout",
     "output_type": "stream",
     "text": [
      "0.8079710144927537\n",
      "col_0    0    1\n",
      "num            \n",
      "0      105   26\n",
      "1       27  118\n",
      "[[105  26]\n",
      " [ 27 118]]\n"
     ]
    }
   ],
   "source": [
    "model_rfc = RandomForestClassifier(max_features=3,random_state=4)\n",
    "model_rfc.fit(X_train,y_train)\n",
    "y_predict = model_rfc.predict(X_test)\n",
    "print(accuracy_score(y_test,y_predict))\n",
    "print(pd.crosstab(y_test,y_predict))\n",
    "print(confusion_matrix(y_test,y_predict))"
   ]
  },
  {
   "cell_type": "code",
   "execution_count": 50,
   "metadata": {},
   "outputs": [
    {
     "name": "stdout",
     "output_type": "stream",
     "text": [
      "0.8079710144927537\n",
      "col_0    0    1\n",
      "num            \n",
      "0      105   26\n",
      "1       27  118\n",
      "[[105  26]\n",
      " [ 27 118]]\n"
     ]
    }
   ],
   "source": [
    "model_rfc = RandomForestClassifier(max_features=3,random_state=4)\n",
    "model_rfc.fit(X_train_scaled,y_train_scaled)\n",
    "y_predict = model_rfc.predict(X_test_scaled)\n",
    "print(accuracy_score(y_test_scaled,y_predict))\n",
    "print(pd.crosstab(y_test_scaled,y_predict))\n",
    "print(confusion_matrix(y_test_scaled,y_predict))"
   ]
  },
  {
   "cell_type": "code",
   "execution_count": 51,
   "metadata": {},
   "outputs": [
    {
     "name": "stdout",
     "output_type": "stream",
     "text": [
      "[[98 33]\n",
      " [69 76]]\n",
      "0.6304347826086957\n"
     ]
    }
   ],
   "source": [
    "model_knn = KNeighborsClassifier(n_neighbors = 2, metric='euclidean')\n",
    "model_knn.fit(X_train,y_train)\n",
    "y_predict = model_knn.predict(X_test)\n",
    "print(confusion_matrix(y_test,y_predict))\n",
    "print(accuracy_score(y_test,y_predict))"
   ]
  },
  {
   "cell_type": "code",
   "execution_count": 52,
   "metadata": {},
   "outputs": [
    {
     "name": "stdout",
     "output_type": "stream",
     "text": [
      "[[115  16]\n",
      " [ 51  94]]\n",
      "0.7572463768115942\n"
     ]
    }
   ],
   "source": [
    "model_knn = KNeighborsClassifier(n_neighbors = 2, metric='euclidean')\n",
    "model_knn.fit(X_train_scaled,y_train_scaled)\n",
    "y_predict = model_knn.predict(X_test_scaled)\n",
    "print(confusion_matrix(y_test_scaled,y_predict))\n",
    "print(accuracy_score(y_test_scaled,y_predict))"
   ]
  },
  {
   "cell_type": "code",
   "execution_count": 53,
   "metadata": {},
   "outputs": [
    {
     "name": "stdout",
     "output_type": "stream",
     "text": [
      "0.7318840579710145\n",
      "[[ 96  35]\n",
      " [ 39 106]]\n"
     ]
    }
   ],
   "source": [
    "model_dt = DecisionTreeClassifier()\n",
    "model_dt.fit(X_train,y_train)\n",
    "y_predict = model_dt.predict(X_test)\n",
    "print(accuracy_score(y_test,y_predict))\n",
    "print(confusion_matrix(y_test,y_predict))"
   ]
  },
  {
   "cell_type": "code",
   "execution_count": 54,
   "metadata": {},
   "outputs": [
    {
     "name": "stdout",
     "output_type": "stream",
     "text": [
      "0.7246376811594203\n",
      "[[ 94  37]\n",
      " [ 39 106]]\n"
     ]
    }
   ],
   "source": [
    "model_dt = DecisionTreeClassifier()\n",
    "model_dt.fit(X_train_scaled,y_train_scaled)\n",
    "y_predict = model_dt.predict(X_test_scaled)\n",
    "print(accuracy_score(y_test_scaled,y_predict))\n",
    "print(confusion_matrix(y_test_scaled,y_predict))"
   ]
  },
  {
   "cell_type": "code",
   "execution_count": 55,
   "metadata": {},
   "outputs": [
    {
     "name": "stdout",
     "output_type": "stream",
     "text": [
      "0.532608695652174\n",
      "col_0  0    1\n",
      "num          \n",
      "0      2  129\n",
      "1      0  145\n"
     ]
    }
   ],
   "source": [
    "model = SVC(C=1000.0, kernel='rbf', gamma=0.1)\n",
    "model.fit(X_train, y_train)\n",
    "y_predict = model.predict(X_test)\n",
    "print(accuracy_score(y_test,y_predict))\n",
    "print(pd.crosstab(y_test,y_predict))"
   ]
  },
  {
   "cell_type": "code",
   "execution_count": 56,
   "metadata": {},
   "outputs": [
    {
     "name": "stdout",
     "output_type": "stream",
     "text": [
      "0.7644927536231884\n",
      "col_0   0    1\n",
      "num           \n",
      "0      99   32\n",
      "1      33  112\n"
     ]
    }
   ],
   "source": [
    "model = SVC(C=1000.0, kernel='rbf', gamma=0.1)\n",
    "model.fit(X_train_scaled, y_train_scaled)\n",
    "y_predict = model.predict(X_test_scaled)\n",
    "print(accuracy_score(y_test_scaled,y_predict))\n",
    "print(pd.crosstab(y_test_scaled,y_predict))"
   ]
  }
 ],
 "metadata": {
  "kernelspec": {
   "display_name": "Python 3",
   "language": "python",
   "name": "python3"
  },
  "language_info": {
   "codemirror_mode": {
    "name": "ipython",
    "version": 3
   },
   "file_extension": ".py",
   "mimetype": "text/x-python",
   "name": "python",
   "nbconvert_exporter": "python",
   "pygments_lexer": "ipython3",
   "version": "3.6.4"
  }
 },
 "nbformat": 4,
 "nbformat_minor": 2
}
