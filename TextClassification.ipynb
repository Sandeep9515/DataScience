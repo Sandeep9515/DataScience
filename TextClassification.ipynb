{
 "cells": [
  {
   "cell_type": "code",
   "execution_count": 22,
   "metadata": {},
   "outputs": [
    {
     "name": "stdout",
     "output_type": "stream",
     "text": [
      "1.9.0\n"
     ]
    }
   ],
   "source": [
    "import tensorflow as tf\n",
    "from tensorflow import keras\n",
    "import numpy as np\n",
    "import matplotlib.pyplot as plt\n",
    "print(tf.__version__)"
   ]
  },
  {
   "cell_type": "code",
   "execution_count": 2,
   "metadata": {},
   "outputs": [],
   "source": [
    "#IMDB -> Internet Movies DB\n",
    "imdb = keras.datasets.imdb"
   ]
  },
  {
   "cell_type": "code",
   "execution_count": 3,
   "metadata": {},
   "outputs": [],
   "source": [
    "#(train_images , train_labels), (test_images , test_labels) = imdb.load_data()\n",
    "\n",
    "# -> Two Objects -> Training Object, Test Object\n",
    "# Training Object -> data [numerical], label[numerical]\n",
    "# Test Object -> Data[number], label[number]\n",
    "# (traindata, train label), (test data, test label) = load_data\n",
    "# a,b = 1,2\n",
    "\n",
    "(train_data , train_labels), (test_data , test_labels) = imdb.load_data(num_words=10000)\n",
    "# IMDB data sets will be parsed, and keeps the top 10,000 most frequently occuring words in the training data -> creating a little bias (help us train our data better)\n",
    "\n",
    "# num_words=10000 -->\" gives 10000 most frequently used distinct words\" --> will help us train our data better"
   ]
  },
  {
   "cell_type": "code",
   "execution_count": 4,
   "metadata": {},
   "outputs": [
    {
     "data": {
      "text/plain": [
       "(25000,)"
      ]
     },
     "execution_count": 4,
     "metadata": {},
     "output_type": "execute_result"
    }
   ],
   "source": [
    "train_data.shape"
   ]
  },
  {
   "cell_type": "code",
   "execution_count": 5,
   "metadata": {},
   "outputs": [
    {
     "name": "stdout",
     "output_type": "stream",
     "text": [
      "Training entries are 25000 and labels are 25000\n"
     ]
    }
   ],
   "source": [
    "print(\"Training entries are {} and labels are {}\".format(len(train_data),len(train_labels)))\n",
    "# Hello Mr. Orange. How is Mrs. Orange doing? \n",
    "# Hello -> 0 Mr.-> 1 Orange. -> 2 How -> 3 is->4 Mrs.->5 Orange->6 doing?->7 your->8 pet?->9\n",
    "# [ 0 1 2 3 4 5 6 7] \n",
    "# How is your pet?\n",
    "# [ 3 4 8 9] \n"
   ]
  },
  {
   "cell_type": "code",
   "execution_count": 6,
   "metadata": {},
   "outputs": [
    {
     "name": "stdout",
     "output_type": "stream",
     "text": [
      "189\n",
      "0\n"
     ]
    }
   ],
   "source": [
    "print(len(train_data[1]))\n",
    "print(train_labels[1])"
   ]
  },
  {
   "cell_type": "code",
   "execution_count": 7,
   "metadata": {},
   "outputs": [],
   "source": [
    "# To see the words\n",
    "word_index = imdb.get_word_index()\n",
    "word_index = {k: (v+3) for k,v in word_index.items()}"
   ]
  },
  {
   "cell_type": "code",
   "execution_count": 8,
   "metadata": {},
   "outputs": [],
   "source": [
    "word_index[\"<PAD>\"] = 0\n",
    "word_index[\"<START>\"] = 1\n",
    "word_index[\"<UNK>\"] = 2 # Unknown\n",
    "word_index[\"<UNUSED>\"] = 3\n",
    "# They have been added to the end of the list\n",
    "# We need them at the starting of the list\n",
    "# Will reverse them now.\n",
    "reverse_word_index = dict([(value,key) for (key,value) in word_index.items()])"
   ]
  },
  {
   "cell_type": "code",
   "execution_count": 9,
   "metadata": {},
   "outputs": [],
   "source": [
    "def decode_review(text):\n",
    "    return ' '.join([reverse_word_index.get(i,'?') for i in text])"
   ]
  },
  {
   "cell_type": "code",
   "execution_count": 10,
   "metadata": {},
   "outputs": [
    {
     "name": "stdout",
     "output_type": "stream",
     "text": [
      "<START> i love cheesy horror flicks i don't care if the acting is sub par or whether the monsters look corny i liked this movie except for the <UNK> feeling all the way from the beginning of the film to the very end look i don't need a 10 page <UNK> or a sign with big letters explaining a plot to me but dark floors takes the what is this movie about thing to a whole new annoying level what is this movie about br br this isn't exceptionally scary or thrilling but if you have an hour and a half to kill and or you want to end up feeling frustrated and confused rent this winner\n"
     ]
    }
   ],
   "source": [
    "print(decode_review(train_data[12]))"
   ]
  },
  {
   "cell_type": "code",
   "execution_count": 11,
   "metadata": {},
   "outputs": [],
   "source": [
    "# We should create the data with same tensores by padding\n",
    "train_data = keras.preprocessing.sequence.pad_sequences(train_data, value=word_index[\"<PAD>\"],padding='post',maxlen=256)\n",
    "test_data = keras.preprocessing.sequence.pad_sequences(test_data, value=word_index[\"<PAD>\"],padding='post',maxlen=256)\n",
    "# maxlen=256 --> has to be equal to that of the longest sentence"
   ]
  },
  {
   "cell_type": "code",
   "execution_count": 12,
   "metadata": {},
   "outputs": [
    {
     "data": {
      "text/plain": [
       "256"
      ]
     },
     "execution_count": 12,
     "metadata": {},
     "output_type": "execute_result"
    }
   ],
   "source": [
    "len(test_data[0])"
   ]
  },
  {
   "cell_type": "code",
   "execution_count": 13,
   "metadata": {},
   "outputs": [
    {
     "data": {
      "text/plain": [
       "1"
      ]
     },
     "execution_count": 13,
     "metadata": {},
     "output_type": "execute_result"
    }
   ],
   "source": [
    "train_labels[3]"
   ]
  },
  {
   "cell_type": "code",
   "execution_count": 14,
   "metadata": {},
   "outputs": [
    {
     "name": "stdout",
     "output_type": "stream",
     "text": [
      "_________________________________________________________________\n",
      "Layer (type)                 Output Shape              Param #   \n",
      "=================================================================\n",
      "embedding (Embedding)        (None, None, 16)          160000    \n",
      "_________________________________________________________________\n",
      "global_average_pooling1d (Gl (None, 16)                0         \n",
      "_________________________________________________________________\n",
      "dense (Dense)                (None, 16)                272       \n",
      "_________________________________________________________________\n",
      "dense_1 (Dense)              (None, 1)                 17        \n",
      "=================================================================\n",
      "Total params: 160,289\n",
      "Trainable params: 160,289\n",
      "Non-trainable params: 0\n",
      "_________________________________________________________________\n"
     ]
    }
   ],
   "source": [
    "vocab_size=10000\n",
    "model = keras.Sequential()\n",
    "model.add(keras.layers.Embedding(vocab_size,16))\n",
    "model.add(keras.layers.GlobalAveragePooling1D())\n",
    "model.add(keras.layers.Dense(16,activation=tf.nn.relu))\n",
    "model.add(keras.layers.Dense(1,activation=tf.nn.sigmoid))\n",
    "\n",
    "# The first layer is an Embedding layer. This layer takes the integer-encoded vocabulary and looks up the embedding vector for each word-index. These vectors are learned as the model trains. The vectors add a dimension to the output array. \n",
    "# Next, a GlobalAveragePooling1D layer returns a fixed-length output vector for each example by averaging over the sequence dimension. This allows the model to handle input of variable length, in the simplest way possible.\n",
    "# If a model has more hidden units (a higher-dimensional representation space), and/or more layers, then the network can learn more complex representations. However, it makes the network more computationally expensive and may lead to learning unwanted patterns—patterns that improve performance on training data but not on the test data. This is called overfitting, and we'll explore it later.\n",
    "model.summary()"
   ]
  },
  {
   "cell_type": "code",
   "execution_count": 15,
   "metadata": {},
   "outputs": [],
   "source": [
    "# binary_crossentropy --> because the output is binary\n",
    "model.compile(optimizer=tf.train.AdamOptimizer(), loss='binary_crossentropy', metrics=['accuracy'])"
   ]
  },
  {
   "cell_type": "code",
   "execution_count": 16,
   "metadata": {},
   "outputs": [
    {
     "name": "stdout",
     "output_type": "stream",
     "text": [
      "Wall time: 0 ns\n"
     ]
    }
   ],
   "source": [
    "%%time\n",
    "# TEST Data should be used ONLY ONCE because the neural network may learn that and give us correct results.\n",
    "X_val = train_data[:10000]\n",
    "partial_X_train = train_data[10000:]\n",
    "y_val = train_labels[:10000]\n",
    "partial_y_train = train_labels[10000:]"
   ]
  },
  {
   "cell_type": "code",
   "execution_count": 17,
   "metadata": {},
   "outputs": [
    {
     "name": "stdout",
     "output_type": "stream",
     "text": [
      "Train on 15000 samples, validate on 10000 samples\n",
      "Epoch 1/80\n",
      "15000/15000 [==============================] - 2s 104us/step - loss: 0.6948 - acc: 0.5143 - val_loss: 0.6914 - val_acc: 0.5227\n",
      "Epoch 2/80\n",
      "15000/15000 [==============================] - 1s 80us/step - loss: 0.6904 - acc: 0.5746 - val_loss: 0.6892 - val_acc: 0.6410\n",
      "Epoch 3/80\n",
      "15000/15000 [==============================] - 1s 87us/step - loss: 0.6875 - acc: 0.6339 - val_loss: 0.6866 - val_acc: 0.6058\n",
      "Epoch 4/80\n",
      "15000/15000 [==============================] - 1s 91us/step - loss: 0.6840 - acc: 0.6874 - val_loss: 0.6832 - val_acc: 0.6198\n",
      "Epoch 5/80\n",
      "15000/15000 [==============================] - 1s 85us/step - loss: 0.6794 - acc: 0.6921 - val_loss: 0.6780 - val_acc: 0.7548\n",
      "Epoch 6/80\n",
      "15000/15000 [==============================] - 1s 79us/step - loss: 0.6734 - acc: 0.7623 - val_loss: 0.6716 - val_acc: 0.7543\n",
      "Epoch 7/80\n",
      "15000/15000 [==============================] - 1s 78us/step - loss: 0.6651 - acc: 0.7623 - val_loss: 0.6633 - val_acc: 0.7475\n",
      "Epoch 8/80\n",
      "15000/15000 [==============================] - 1s 78us/step - loss: 0.6539 - acc: 0.7639 - val_loss: 0.6515 - val_acc: 0.7506\n",
      "Epoch 9/80\n",
      "15000/15000 [==============================] - 1s 77us/step - loss: 0.6381 - acc: 0.7694 - val_loss: 0.6335 - val_acc: 0.7602\n",
      "Epoch 10/80\n",
      "15000/15000 [==============================] - 1s 80us/step - loss: 0.6166 - acc: 0.7873 - val_loss: 0.6127 - val_acc: 0.7736\n",
      "Epoch 11/80\n",
      "15000/15000 [==============================] - 1s 78us/step - loss: 0.5927 - acc: 0.7855 - val_loss: 0.5913 - val_acc: 0.7751\n",
      "Epoch 12/80\n",
      "15000/15000 [==============================] - 1s 78us/step - loss: 0.5664 - acc: 0.7989 - val_loss: 0.5651 - val_acc: 0.7899\n",
      "Epoch 13/80\n",
      "15000/15000 [==============================] - 1s 78us/step - loss: 0.5379 - acc: 0.8145 - val_loss: 0.5404 - val_acc: 0.8020\n",
      "Epoch 14/80\n",
      "15000/15000 [==============================] - 1s 78us/step - loss: 0.5100 - acc: 0.8255 - val_loss: 0.5150 - val_acc: 0.8111\n",
      "Epoch 15/80\n",
      "15000/15000 [==============================] - 1s 79us/step - loss: 0.4823 - acc: 0.8345 - val_loss: 0.4904 - val_acc: 0.8176\n",
      "Epoch 16/80\n",
      "15000/15000 [==============================] - 2s 104us/step - loss: 0.4565 - acc: 0.8421 - val_loss: 0.4680 - val_acc: 0.8250\n",
      "Epoch 17/80\n",
      "15000/15000 [==============================] - 2s 100us/step - loss: 0.4313 - acc: 0.8554 - val_loss: 0.4474 - val_acc: 0.8378\n",
      "Epoch 18/80\n",
      "15000/15000 [==============================] - 1s 88us/step - loss: 0.4087 - acc: 0.8633 - val_loss: 0.4283 - val_acc: 0.8419\n",
      "Epoch 19/80\n",
      "15000/15000 [==============================] - 1s 83us/step - loss: 0.3881 - acc: 0.8709 - val_loss: 0.4115 - val_acc: 0.8469\n",
      "Epoch 20/80\n",
      "15000/15000 [==============================] - 1s 82us/step - loss: 0.3697 - acc: 0.8768 - val_loss: 0.3968 - val_acc: 0.8514\n",
      "Epoch 21/80\n",
      "15000/15000 [==============================] - 1s 81us/step - loss: 0.3527 - acc: 0.8811 - val_loss: 0.3836 - val_acc: 0.8558\n",
      "Epoch 22/80\n",
      "15000/15000 [==============================] - 1s 78us/step - loss: 0.3377 - acc: 0.8852 - val_loss: 0.3723 - val_acc: 0.8602\n",
      "Epoch 23/80\n",
      "15000/15000 [==============================] - 1s 79us/step - loss: 0.3244 - acc: 0.8890 - val_loss: 0.3626 - val_acc: 0.8607\n",
      "Epoch 24/80\n",
      "15000/15000 [==============================] - 1s 84us/step - loss: 0.3117 - acc: 0.8933 - val_loss: 0.3535 - val_acc: 0.8649\n",
      "Epoch 25/80\n",
      "15000/15000 [==============================] - 2s 114us/step - loss: 0.3005 - acc: 0.8964 - val_loss: 0.3457 - val_acc: 0.8679\n",
      "Epoch 26/80\n",
      "15000/15000 [==============================] - 1s 96us/step - loss: 0.2902 - acc: 0.9000 - val_loss: 0.3389 - val_acc: 0.8696\n",
      "Epoch 27/80\n",
      "15000/15000 [==============================] - 2s 106us/step - loss: 0.2810 - acc: 0.9019 - val_loss: 0.3327 - val_acc: 0.8721\n",
      "Epoch 28/80\n",
      "15000/15000 [==============================] - 1s 95us/step - loss: 0.2719 - acc: 0.9051 - val_loss: 0.3271 - val_acc: 0.8729\n",
      "Epoch 29/80\n",
      "15000/15000 [==============================] - 1s 94us/step - loss: 0.2637 - acc: 0.9082 - val_loss: 0.3225 - val_acc: 0.8729\n",
      "Epoch 30/80\n",
      "15000/15000 [==============================] - 1s 91us/step - loss: 0.2566 - acc: 0.9083 - val_loss: 0.3181 - val_acc: 0.8757\n",
      "Epoch 31/80\n",
      "15000/15000 [==============================] - 1s 87us/step - loss: 0.2488 - acc: 0.9124 - val_loss: 0.3143 - val_acc: 0.8765\n",
      "Epoch 32/80\n",
      "15000/15000 [==============================] - 1s 81us/step - loss: 0.2425 - acc: 0.9139 - val_loss: 0.3109 - val_acc: 0.8773\n",
      "Epoch 33/80\n",
      "15000/15000 [==============================] - 1s 81us/step - loss: 0.2355 - acc: 0.9171 - val_loss: 0.3079 - val_acc: 0.8785\n",
      "Epoch 34/80\n",
      "15000/15000 [==============================] - 1s 81us/step - loss: 0.2294 - acc: 0.9195 - val_loss: 0.3051 - val_acc: 0.8794\n",
      "Epoch 35/80\n",
      "15000/15000 [==============================] - 1s 82us/step - loss: 0.2241 - acc: 0.9209 - val_loss: 0.3025 - val_acc: 0.8798\n",
      "Epoch 36/80\n",
      "15000/15000 [==============================] - 1s 84us/step - loss: 0.2180 - acc: 0.9242 - val_loss: 0.3004 - val_acc: 0.8810\n",
      "Epoch 37/80\n",
      "15000/15000 [==============================] - 1s 83us/step - loss: 0.2128 - acc: 0.9260 - val_loss: 0.2988 - val_acc: 0.8817\n",
      "Epoch 38/80\n",
      "15000/15000 [==============================] - 1s 83us/step - loss: 0.2077 - acc: 0.9277 - val_loss: 0.2963 - val_acc: 0.8826\n",
      "Epoch 39/80\n",
      "15000/15000 [==============================] - 1s 81us/step - loss: 0.2025 - acc: 0.9305 - val_loss: 0.2949 - val_acc: 0.8832\n",
      "Epoch 40/80\n",
      "15000/15000 [==============================] - 1s 98us/step - loss: 0.1978 - acc: 0.9310 - val_loss: 0.2932 - val_acc: 0.8845\n",
      "Epoch 41/80\n",
      "15000/15000 [==============================] - 1s 96us/step - loss: 0.1934 - acc: 0.9331 - val_loss: 0.2925 - val_acc: 0.8836\n",
      "Epoch 42/80\n",
      "15000/15000 [==============================] - 1s 87us/step - loss: 0.1888 - acc: 0.9354 - val_loss: 0.2911 - val_acc: 0.8845\n",
      "Epoch 43/80\n",
      "15000/15000 [==============================] - 1s 89us/step - loss: 0.1846 - acc: 0.9363 - val_loss: 0.2901 - val_acc: 0.8850\n",
      "Epoch 44/80\n",
      "15000/15000 [==============================] - 2s 105us/step - loss: 0.1804 - acc: 0.9380 - val_loss: 0.2895 - val_acc: 0.8856\n",
      "Epoch 45/80\n",
      "15000/15000 [==============================] - 1s 94us/step - loss: 0.1765 - acc: 0.9403 - val_loss: 0.2888 - val_acc: 0.8859\n",
      "Epoch 46/80\n",
      "15000/15000 [==============================] - 1s 83us/step - loss: 0.1726 - acc: 0.9421 - val_loss: 0.2884 - val_acc: 0.8862\n",
      "Epoch 47/80\n",
      "15000/15000 [==============================] - 1s 85us/step - loss: 0.1685 - acc: 0.9443 - val_loss: 0.2881 - val_acc: 0.8851\n",
      "Epoch 48/80\n",
      "15000/15000 [==============================] - 1s 87us/step - loss: 0.1658 - acc: 0.9446 - val_loss: 0.2890 - val_acc: 0.8852\n",
      "Epoch 49/80\n",
      "15000/15000 [==============================] - 1s 82us/step - loss: 0.1618 - acc: 0.9467 - val_loss: 0.2880 - val_acc: 0.8845\n",
      "Epoch 50/80\n",
      "15000/15000 [==============================] - 1s 83us/step - loss: 0.1583 - acc: 0.9493 - val_loss: 0.2874 - val_acc: 0.8858\n",
      "Epoch 51/80\n",
      "15000/15000 [==============================] - 1s 83us/step - loss: 0.1549 - acc: 0.9510 - val_loss: 0.2876 - val_acc: 0.8856\n",
      "Epoch 52/80\n",
      "15000/15000 [==============================] - 1s 99us/step - loss: 0.1516 - acc: 0.9520 - val_loss: 0.2882 - val_acc: 0.8852\n",
      "Epoch 53/80\n",
      "15000/15000 [==============================] - 1s 94us/step - loss: 0.1483 - acc: 0.9535 - val_loss: 0.2880 - val_acc: 0.8860\n",
      "Epoch 54/80\n",
      "15000/15000 [==============================] - 2s 105us/step - loss: 0.1453 - acc: 0.9551 - val_loss: 0.2881 - val_acc: 0.8859\n",
      "Epoch 55/80\n",
      "15000/15000 [==============================] - 1s 99us/step - loss: 0.1421 - acc: 0.9561 - val_loss: 0.2889 - val_acc: 0.8862\n",
      "Epoch 56/80\n",
      "15000/15000 [==============================] - 1s 98us/step - loss: 0.1394 - acc: 0.9571 - val_loss: 0.2900 - val_acc: 0.8858\n",
      "Epoch 57/80\n",
      "15000/15000 [==============================] - 1s 93us/step - loss: 0.1364 - acc: 0.9579 - val_loss: 0.2899 - val_acc: 0.8862\n",
      "Epoch 58/80\n",
      "15000/15000 [==============================] - 1s 91us/step - loss: 0.1338 - acc: 0.9598 - val_loss: 0.2908 - val_acc: 0.8854\n",
      "Epoch 59/80\n",
      "15000/15000 [==============================] - 1s 91us/step - loss: 0.1311 - acc: 0.9599 - val_loss: 0.2910 - val_acc: 0.8866\n",
      "Epoch 60/80\n"
     ]
    },
    {
     "name": "stdout",
     "output_type": "stream",
     "text": [
      "15000/15000 [==============================] - 1s 90us/step - loss: 0.1285 - acc: 0.9617 - val_loss: 0.2921 - val_acc: 0.8865\n",
      "Epoch 61/80\n",
      "15000/15000 [==============================] - 1s 94us/step - loss: 0.1260 - acc: 0.9627 - val_loss: 0.2933 - val_acc: 0.8847\n",
      "Epoch 62/80\n",
      "15000/15000 [==============================] - 1s 95us/step - loss: 0.1236 - acc: 0.9643 - val_loss: 0.2942 - val_acc: 0.8853\n",
      "Epoch 63/80\n",
      "15000/15000 [==============================] - 2s 100us/step - loss: 0.1206 - acc: 0.9650 - val_loss: 0.2947 - val_acc: 0.8864\n",
      "Epoch 64/80\n",
      "15000/15000 [==============================] - 1s 92us/step - loss: 0.1182 - acc: 0.9658 - val_loss: 0.2959 - val_acc: 0.8852\n",
      "Epoch 65/80\n",
      "15000/15000 [==============================] - 1s 91us/step - loss: 0.1161 - acc: 0.9667 - val_loss: 0.2971 - val_acc: 0.8853\n",
      "Epoch 66/80\n",
      "15000/15000 [==============================] - 1s 86us/step - loss: 0.1138 - acc: 0.9679 - val_loss: 0.2982 - val_acc: 0.8858\n",
      "Epoch 67/80\n",
      "15000/15000 [==============================] - 1s 80us/step - loss: 0.1113 - acc: 0.9685 - val_loss: 0.2991 - val_acc: 0.8856\n",
      "Epoch 68/80\n",
      "15000/15000 [==============================] - 1s 78us/step - loss: 0.1092 - acc: 0.9693 - val_loss: 0.3010 - val_acc: 0.8850\n",
      "Epoch 69/80\n",
      "15000/15000 [==============================] - 1s 79us/step - loss: 0.1070 - acc: 0.9699 - val_loss: 0.3029 - val_acc: 0.8848\n",
      "Epoch 70/80\n",
      "15000/15000 [==============================] - 1s 79us/step - loss: 0.1050 - acc: 0.9707 - val_loss: 0.3032 - val_acc: 0.8847\n",
      "Epoch 71/80\n",
      "15000/15000 [==============================] - 1s 79us/step - loss: 0.1031 - acc: 0.9707 - val_loss: 0.3047 - val_acc: 0.8844\n",
      "Epoch 72/80\n",
      "15000/15000 [==============================] - 1s 78us/step - loss: 0.1010 - acc: 0.9717 - val_loss: 0.3066 - val_acc: 0.8844\n",
      "Epoch 73/80\n",
      "15000/15000 [==============================] - 1s 78us/step - loss: 0.0991 - acc: 0.9722 - val_loss: 0.3078 - val_acc: 0.8833\n",
      "Epoch 74/80\n",
      "15000/15000 [==============================] - 1s 79us/step - loss: 0.0973 - acc: 0.9733 - val_loss: 0.3092 - val_acc: 0.8831\n",
      "Epoch 75/80\n",
      "15000/15000 [==============================] - 1s 82us/step - loss: 0.0950 - acc: 0.9745 - val_loss: 0.3109 - val_acc: 0.8826\n",
      "Epoch 76/80\n",
      "15000/15000 [==============================] - 1s 89us/step - loss: 0.0931 - acc: 0.9757 - val_loss: 0.3126 - val_acc: 0.8829\n",
      "Epoch 77/80\n",
      "15000/15000 [==============================] - 1s 87us/step - loss: 0.0911 - acc: 0.9760 - val_loss: 0.3146 - val_acc: 0.8822\n",
      "Epoch 78/80\n",
      "15000/15000 [==============================] - 1s 84us/step - loss: 0.0893 - acc: 0.9764 - val_loss: 0.3160 - val_acc: 0.8815\n",
      "Epoch 79/80\n",
      "15000/15000 [==============================] - 1s 84us/step - loss: 0.0878 - acc: 0.9770 - val_loss: 0.3184 - val_acc: 0.8815\n",
      "Epoch 80/80\n",
      "15000/15000 [==============================] - 1s 81us/step - loss: 0.0859 - acc: 0.9776 - val_loss: 0.3198 - val_acc: 0.8807\n"
     ]
    }
   ],
   "source": [
    "# epochs = 80 is really bad results in overfitting\n",
    "history = model.fit(partial_X_train,partial_y_train,epochs=80,batch_size=512,validation_data=(X_val,y_val),verbose=1)"
   ]
  },
  {
   "cell_type": "code",
   "execution_count": 18,
   "metadata": {},
   "outputs": [
    {
     "name": "stdout",
     "output_type": "stream",
     "text": [
      "25000/25000 [==============================] - 1s 28us/step\n",
      "[0.340583915681839, 0.871]\n"
     ]
    }
   ],
   "source": [
    "results = model.evaluate(test_data, test_labels)\n",
    "print(results)"
   ]
  },
  {
   "cell_type": "code",
   "execution_count": 19,
   "metadata": {},
   "outputs": [
    {
     "name": "stdout",
     "output_type": "stream",
     "text": [
      "dict_keys(['val_loss', 'val_acc', 'loss', 'acc'])\n"
     ]
    }
   ],
   "source": [
    "history_dict = history.history\n",
    "print(history_dict.keys())"
   ]
  },
  {
   "cell_type": "code",
   "execution_count": 21,
   "metadata": {},
   "outputs": [],
   "source": [
    "val_loss = history.history['val_loss']\n",
    "val_acc = history.history['val_acc']\n",
    "loss = history.history['loss']\n",
    "acc = history.history['acc']\n",
    "\n",
    "epochs = range(1 , len(acc)+1)\n"
   ]
  },
  {
   "cell_type": "code",
   "execution_count": 28,
   "metadata": {},
   "outputs": [
    {
     "data": {
      "image/png": "[encoded data removed]",
      "text/plain": [
       "<matplotlib.figure.Figure at 0x1e66dcb3438>"
      ]
     },
     "metadata": {
      "needs_background": "light"
     },
     "output_type": "display_data"
    }
   ],
   "source": [
    "plt.plot(epochs, loss, 'bo', label='Training loss')\n",
    "plt.plot(epochs, val_loss, 'b', label='Validation loss')\n",
    "plt.xlabel('Epochs')\n",
    "plt.ylabel('Loss')\n",
    "plt.legend()\n",
    "plt.show()"
   ]
  },
  {
   "cell_type": "code",
   "execution_count": 29,
   "metadata": {},
   "outputs": [
    {
     "data": {
      "image/png": "[encoded data removed]",
      "text/plain": [
       "<matplotlib.figure.Figure at 0x1e66dc982e8>"
      ]
     },
     "metadata": {
      "needs_background": "light"
     },
     "output_type": "display_data"
    }
   ],
   "source": [
    "import matplotlib.pyplot as plt1\n",
    "plt1.plot(epochs, acc, 'bo', label='Training loss')\n",
    "plt1.plot(epochs, val_acc, 'b', label='Validation loss')\n",
    "plt1.xlabel('Epochs')\n",
    "plt1.ylabel('acc')\n",
    "plt1.legend()\n",
    "plt1.show()"
   ]
  },
  {
   "cell_type": "code",
   "execution_count": 30,
   "metadata": {},
   "outputs": [
    {
     "data": {
      "image/png": "[encoded data removed]",
      "text/plain": [
       "<matplotlib.figure.Figure at 0x1e66d557a58>"
      ]
     },
     "metadata": {
      "needs_background": "light"
     },
     "output_type": "display_data"
    }
   ],
   "source": [
    "plt.plot(epochs, loss, 'bo', label='Training loss')\n",
    "plt.plot(epochs, val_loss, 'b', label='Validation loss')\n",
    "plt.plot(epochs, acc, 'bo', label='Training acc')\n",
    "plt.plot(epochs, val_acc, 'b', label='Validation acc')\n",
    "plt.xlabel('Epochs')\n",
    "plt.ylabel('Loss')\n",
    "plt.legend()\n",
    "plt.show()"
   ]
  },
  {
   "cell_type": "code",
   "execution_count": 31,
   "metadata": {},
   "outputs": [
    {
     "name": "stdout",
     "output_type": "stream",
     "text": [
      "25000/25000 [==============================] - 1s 26us/step\n"
     ]
    }
   ],
   "source": [
    "test_loss, test_acc = model.evaluate(test_data, test_labels)"
   ]
  },
  {
   "cell_type": "code",
   "execution_count": 32,
   "metadata": {},
   "outputs": [
    {
     "data": {
      "text/plain": [
       "0.340583915681839"
      ]
     },
     "execution_count": 32,
     "metadata": {},
     "output_type": "execute_result"
    }
   ],
   "source": [
    "test_loss"
   ]
  },
  {
   "cell_type": "code",
   "execution_count": 33,
   "metadata": {},
   "outputs": [
    {
     "data": {
      "text/plain": [
       "0.871"
      ]
     },
     "execution_count": 33,
     "metadata": {},
     "output_type": "execute_result"
    }
   ],
   "source": [
    "test_acc"
   ]
  },
  {
   "cell_type": "code",
   "execution_count": 34,
   "metadata": {},
   "outputs": [],
   "source": [
    "predictions = model.predict(test_data)"
   ]
  },
  {
   "cell_type": "code",
   "execution_count": null,
   "metadata": {},
   "outputs": [],
   "source": []
  }
 ],
 "metadata": {
  "kernelspec": {
   "display_name": "Python 3",
   "language": "python",
   "name": "python3"
  },
  "language_info": {
   "codemirror_mode": {
    "name": "ipython",
    "version": 3
   },
   "file_extension": ".py",
   "mimetype": "text/x-python",
   "name": "python",
   "nbconvert_exporter": "python",
   "pygments_lexer": "ipython3",
   "version": "3.6.4"
  }
 },
 "nbformat": 4,
 "nbformat_minor": 2
}
